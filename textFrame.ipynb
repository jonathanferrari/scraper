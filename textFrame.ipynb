{
 "cells": [
  {
   "cell_type": "markdown",
   "metadata": {},
   "source": [
    "# Prep"
   ]
  },
  {
   "cell_type": "markdown",
   "metadata": {
    "tags": []
   },
   "source": [
    "## Imports"
   ]
  },
  {
   "cell_type": "code",
   "execution_count": 5,
   "metadata": {
    "execution": {
     "iopub.execute_input": "2022-06-14T08:31:02.790051Z",
     "iopub.status.busy": "2022-06-14T08:31:02.789543Z",
     "iopub.status.idle": "2022-06-14T08:31:02.796053Z",
     "shell.execute_reply": "2022-06-14T08:31:02.794078Z",
     "shell.execute_reply.started": "2022-06-14T08:31:02.790022Z"
    },
    "tags": []
   },
   "outputs": [],
   "source": [
    "import pandas as pd, numpy as np\n",
    "from utils import *;\n",
    "from IPython.display import *;\n",
    "import re, json, os, sys, warnings\n",
    "warnings.filterwarnings(\"ignore\")"
   ]
  },
  {
   "cell_type": "markdown",
   "metadata": {
    "tags": []
   },
   "source": [
    "## Helpers"
   ]
  },
  {
   "cell_type": "code",
   "execution_count": 6,
   "metadata": {
    "execution": {
     "iopub.execute_input": "2022-06-14T08:31:03.474093Z",
     "iopub.status.busy": "2022-06-14T08:31:03.473775Z",
     "iopub.status.idle": "2022-06-14T08:31:03.494309Z",
     "shell.execute_reply": "2022-06-14T08:31:03.493276Z",
     "shell.execute_reply.started": "2022-06-14T08:31:03.474064Z"
    },
    "tags": []
   },
   "outputs": [],
   "source": [
    "def readDict(file):\n",
    "    with open(f\"dictionaries/{file}.json\") as infile:\n",
    "        subs = json.load(infile)\n",
    "    return intKey(subs)\n",
    "\n",
    "def sumDict(dicts):\n",
    "    full = {}\n",
    "    for dic in dicts:\n",
    "        full = full | dic\n",
    "    return full\n",
    "\n",
    "def writeDict(dct, file):\n",
    "    with open(f\"dictionaries/{file}.json\", \"w\") as outfile:\n",
    "        json.dump(dct, outfile, indent=4, sort_keys=True)\n",
    "    return dct\n",
    "\n",
    "def addDict(file=None, dct = None, keys = None, values = None):\n",
    "    if not dct: \n",
    "        dct = readDict(file)\n",
    "    if keys and values:\n",
    "        if type(keys) != list:\n",
    "            dct[keys] += values\n",
    "        else:\n",
    "            assert len(keys) == len(values), \\\n",
    "            f\"\"\"Keys and values must have same length:\n",
    "                Given Keys:{len(keys)} and Values:{len(values)}\"\"\"\n",
    "            for key, value in zip(keys, values):\n",
    "                dct[key] += value  \n",
    "    writeDict(dct, file)\n",
    "    \n",
    "def emptyRetrieved():\n",
    "    sk = readDict(\"substances\")\n",
    "    dct = {k : {} for k in sk.keys()}\n",
    "    return writeDict(dct, \"retrieved\")\n",
    "\n",
    "def intKey(dct):\n",
    "    if (type(dct) == dict) and (dct != {}):\n",
    "        try:\n",
    "            return {int(k) : intKey(v) for k, v in dct.items()}\n",
    "        except Exception as e:\n",
    "            return dct\n",
    "    else:\n",
    "        return dct"
   ]
  },
  {
   "cell_type": "code",
   "execution_count": 7,
   "metadata": {
    "execution": {
     "iopub.execute_input": "2022-06-14T08:31:04.326131Z",
     "iopub.status.busy": "2022-06-14T08:31:04.325190Z",
     "iopub.status.idle": "2022-06-14T08:31:04.343232Z",
     "shell.execute_reply": "2022-06-14T08:31:04.342055Z",
     "shell.execute_reply.started": "2022-06-14T08:31:04.326072Z"
    },
    "tags": []
   },
   "outputs": [],
   "source": [
    "def flatten(t):\n",
    "    return sum([[i] if type(i) != list else i for i in t], [])"
   ]
  },
  {
   "cell_type": "code",
   "execution_count": 8,
   "metadata": {
    "execution": {
     "iopub.execute_input": "2022-06-14T08:31:04.702582Z",
     "iopub.status.busy": "2022-06-14T08:31:04.701909Z",
     "iopub.status.idle": "2022-06-14T08:31:04.711099Z",
     "shell.execute_reply": "2022-06-14T08:31:04.708837Z",
     "shell.execute_reply.started": "2022-06-14T08:31:04.702548Z"
    },
    "tags": []
   },
   "outputs": [],
   "source": [
    "def getExperiences(subID, most=20, conditions=None):\n",
    "    add =  \"&a=experience_data\" + \\\n",
    "          f\"&substance_id={subID}&max={most}\" + \\\n",
    "           \"&format=xml\"\n",
    "    url = link + add \n",
    "    val_dict = {}\n",
    "    content = requests.get(url).text\n",
    "    exps = re.split(r\"<experience>|</experience>\", content)[1:-1]\n",
    "    while (\"\\n\\n\\n\" in exps):\n",
    "        exps.remove(\"\\n\\n\\n\")\n",
    "    dct = {}\n",
    "    for i in range(len(exps)):\n",
    "        exp = Experience(exps[i])\n",
    "        fits = True\n",
    "        if conditions:\n",
    "            for condition in conditions:\n",
    "                met = eval(condition)\n",
    "                fits = fits and met\n",
    "        if fits:\n",
    "            dct[exp.get(\"id\")] = exp\n",
    "    return dct\n",
    "\n",
    "def experienceList(subID, most=20, conditions = None):\n",
    "    dct = getExperiences(subID, most=most, conditions = conditions)\n",
    "    return list(dct.values())"
   ]
  },
  {
   "cell_type": "code",
   "execution_count": 9,
   "metadata": {
    "execution": {
     "iopub.execute_input": "2022-06-14T08:31:05.266181Z",
     "iopub.status.busy": "2022-06-14T08:31:05.265646Z",
     "iopub.status.idle": "2022-06-14T08:31:05.273687Z",
     "shell.execute_reply": "2022-06-14T08:31:05.271517Z",
     "shell.execute_reply.started": "2022-06-14T08:31:05.266149Z"
    },
    "tags": []
   },
   "outputs": [],
   "source": [
    "def retrieve(\n",
    "    subID : int,\n",
    "    most : int = 20, \n",
    "    conditions : list = None):\n",
    "    \"\"\"\n",
    "    Add substances to ``dictionaries/retrieved.json``\n",
    "    that meet all conditions in ``conditions``,\n",
    "    and update the file accordingly\n",
    "\n",
    "    Parameters\n",
    "    ----------\n",
    "    subID : int\n",
    "        The numerical ID of the substance to \n",
    "        get experiences from.\n",
    "    most : int = 20\n",
    "        The maximum amount of experiences to pull;\n",
    "        this is the number of all experiences, the \n",
    "        number which meet ``conditions`` may be much\n",
    "        lower.\n",
    "    conditions : list = None\n",
    "        Conditions that each experience must meet in\n",
    "        order to be part of the returned dictionary.\n",
    "\n",
    "    Returns\n",
    "    -------\n",
    "    Updated Dictionary : dict\n",
    "    \"\"\"\n",
    "    dct = getExperiences(subID, most, conditions)\n",
    "    retrieved = readDict(\"retrieved\")\n",
    "    working = retrieved[subID]\n",
    "    for k, v in dct.items():\n",
    "        if not (k in working.keys()):\n",
    "            working[k] = vars(v)\n",
    "    retrieved[subID] = working\n",
    "    writeDict(retrieved, \"retrieved\")"
   ]
  },
  {
   "cell_type": "markdown",
   "metadata": {
    "tags": []
   },
   "source": [
    "## Experience Class"
   ]
  },
  {
   "cell_type": "code",
   "execution_count": 10,
   "metadata": {
    "execution": {
     "iopub.execute_input": "2022-06-14T08:31:06.508777Z",
     "iopub.status.busy": "2022-06-14T08:31:06.508425Z",
     "iopub.status.idle": "2022-06-14T08:31:06.529959Z",
     "shell.execute_reply": "2022-06-14T08:31:06.528693Z",
     "shell.execute_reply.started": "2022-06-14T08:31:06.508748Z"
    },
    "tags": []
   },
   "outputs": [],
   "source": [
    "class Experience:\n",
    "    \n",
    "    def fromDict(dct : dict):\n",
    "        return Experience(**dct)\n",
    "\n",
    "    def toFrame(c : dict):\n",
    "        exps = {key : { k : Experience(**v) for k, v in val.items()} for key, val in c.items()}\n",
    "        dl = []\n",
    "        for key in exps.keys():\n",
    "            for exp in exps[key].values():\n",
    "                temp = exp.info\n",
    "                temp[\"substance\"] = key\n",
    "                temp[\"name\"] = exp.name\n",
    "                dl.append(temp)\n",
    "        frame = pd.DataFrame(dl)\n",
    "        reordered = [\"substance\", \"name\", \"id\", \"list-number\", \"title\", \"author\", \n",
    "                    \"substance-string\", 'body-weight', 'gender', 'published-date', 'submitted-date',\n",
    "                    'experience-year', 'intensity', 'primary-category-id', 'substance-id-list', \n",
    "                    'category-id-list', 'published-rating', 'body-changes', 'text']\n",
    "        frame = frame[reordered]\n",
    "        frame.columns = [\"category\", \"name\", \"id\", \"list index\", \"title\", \"author\", \n",
    "                        \"substance\", 'weight', 'gender', 'published', 'submitted',\n",
    "                        'year', 'intensity', 'primary category', 'substance id', \n",
    "                        'secondary category', 'rating', 'changes', 'text']\n",
    "        frame[\"word count\"] = frame[\"text\"].str.rsplit().apply(len)\n",
    "        return frame\n",
    "\n",
    "    \n",
    "    def __repr__(self):\n",
    "        dct  = self.info\n",
    "        ss, ln = dct[\"substance-string\"].strip(), dct[\"list-number\"]\n",
    "        return f\"Experience: {{ Substance: {ss},  List-ID: {ln} }}\"\n",
    "        \n",
    "    def __str__(self):\n",
    "        return self.name\n",
    "        \n",
    "    def __init__(self, string : str, \n",
    "                 info = None, text = None, name = None):\n",
    "        self.string = string\n",
    "        self.readInfo()\n",
    "        for i, k in self.info.items():\n",
    "            if self.info.get(i) == \"\":\n",
    "                self.info[i] = None\n",
    "        self.makeName()\n",
    "    \n",
    "    def get(self, key : str):\n",
    "        if key in (inf := self.info):\n",
    "            return inf.get(key)\n",
    "        else:\n",
    "            print(f\"{key} is not a valid key.\",\n",
    "                  \"Please select one of the following: \\n\")\n",
    "            for key in inf.keys():\n",
    "                if key == \"text\":\n",
    "                    print(key)\n",
    "                else:\n",
    "                    print(key, end = \",\" + \" \"*(30 - len(key)) + \"\\t\")\n",
    "                    \n",
    "    def isPure(self):\n",
    "        tpe = (type(self.get(\"substance-id-list\")) == int)\n",
    "        nme = self.get(\"substance-string\")\n",
    "        mul = not ((\",\" in nme) or (\"&\" in nme))\n",
    "        return tpe and mul\n",
    "    \n",
    "    def isFirst(self):\n",
    "        return 2 in self.get(\"category-id-list\")\n",
    "        \n",
    "    def readInfo(self):\n",
    "        vallst = re.findall(r\"<(.*)>(.*)</.*>\", self.string)\n",
    "        dct = dict(vallst)\n",
    "        for key in dct.keys():\n",
    "            try:\n",
    "                dct[key] = eval(dct[key])\n",
    "            except Exception as e:\n",
    "                dct[key] = dct[key]\n",
    "        self.info = dct\n",
    "        txt = re.split(r\"<experience-text>|</experience-text>\", self.string)[1]\n",
    "        self.info['text'] = txt\n",
    "        self.text = txt\n",
    "        self.info[\"list-number\"] = self.info[\"list-number\"] - 1\n",
    "        \n",
    "    def makeName(self):\n",
    "        dct = self.info\n",
    "        name = dct[\"substance-string\"].strip() + str(dct[\"list-number\"])\n",
    "        self.name = name.lower().replace(\" \", \"_\").replace(\"&\", \"n\")\n",
    "        \n",
    "    def listInfo(self):\n",
    "        return list(self.info.keys())\n",
    "\n",
    "    def toJSON(self):\n",
    "        return json.dumps(self, default=lambda o: vars(o), \n",
    "            sort_keys=True, indent=4)\n",
    "        "
   ]
  },
  {
   "cell_type": "markdown",
   "metadata": {},
   "source": [
    "## Variables"
   ]
  },
  {
   "cell_type": "markdown",
   "metadata": {
    "tags": []
   },
   "source": [
    "### link"
   ]
  },
  {
   "cell_type": "code",
   "execution_count": 11,
   "metadata": {
    "execution": {
     "iopub.execute_input": "2022-06-14T08:31:08.083383Z",
     "iopub.status.busy": "2022-06-14T08:31:08.078806Z",
     "iopub.status.idle": "2022-06-14T08:31:08.090245Z",
     "shell.execute_reply": "2022-06-14T08:31:08.088791Z",
     "shell.execute_reply.started": "2022-06-14T08:31:08.083340Z"
    },
    "tags": []
   },
   "outputs": [],
   "source": [
    "base_url = \"https://erowid.org/experiences/research/\"\n",
    "api_code = \"exp_api.php?api_code=berkeley_bcsp_tyrone_2022\"\n",
    "link = base_url + api_code"
   ]
  },
  {
   "cell_type": "markdown",
   "metadata": {},
   "source": [
    "## Tables"
   ]
  },
  {
   "cell_type": "code",
   "execution_count": 16,
   "metadata": {
    "execution": {
     "iopub.execute_input": "2022-06-14T08:34:45.011851Z",
     "iopub.status.busy": "2022-06-14T08:34:45.010264Z",
     "iopub.status.idle": "2022-06-14T08:34:45.078976Z",
     "shell.execute_reply": "2022-06-14T08:34:45.076315Z",
     "shell.execute_reply.started": "2022-06-14T08:34:45.011739Z"
    },
    "tags": []
   },
   "outputs": [],
   "source": [
    "substances = pd.read_csv(\"csv/substance.csv\")"
   ]
  },
  {
   "cell_type": "markdown",
   "metadata": {},
   "source": [
    "# Working Area"
   ]
  },
  {
   "cell_type": "code",
   "execution_count": 17,
   "metadata": {
    "execution": {
     "iopub.execute_input": "2022-06-14T08:34:45.931049Z",
     "iopub.status.busy": "2022-06-14T08:34:45.930710Z",
     "iopub.status.idle": "2022-06-14T08:34:46.778179Z",
     "shell.execute_reply": "2022-06-14T08:34:46.777366Z",
     "shell.execute_reply.started": "2022-06-14T08:34:45.931019Z"
    },
    "tags": []
   },
   "outputs": [],
   "source": [
    "collected = readDict(\"collected\")"
   ]
  },
  {
   "cell_type": "code",
   "execution_count": 18,
   "metadata": {
    "execution": {
     "iopub.execute_input": "2022-06-14T08:34:47.333304Z",
     "iopub.status.busy": "2022-06-14T08:34:47.332978Z",
     "iopub.status.idle": "2022-06-14T08:34:49.593869Z",
     "shell.execute_reply": "2022-06-14T08:34:49.592851Z",
     "shell.execute_reply.started": "2022-06-14T08:34:47.333275Z"
    },
    "tags": []
   },
   "outputs": [],
   "source": [
    "collectedFrame = Experience.toFrame(collected)\n",
    "collectedFrame.to_csv(\"csv/collected.csv\")"
   ]
  },
  {
   "cell_type": "code",
   "execution_count": 19,
   "metadata": {
    "execution": {
     "iopub.execute_input": "2022-06-14T08:34:50.576340Z",
     "iopub.status.busy": "2022-06-14T08:34:50.576014Z",
     "iopub.status.idle": "2022-06-14T08:34:50.639019Z",
     "shell.execute_reply": "2022-06-14T08:34:50.638003Z",
     "shell.execute_reply.started": "2022-06-14T08:34:50.576312Z"
    },
    "tags": []
   },
   "outputs": [],
   "source": [
    "textStats = {cat : collectedFrame.query(f\"category == '{cat}'\")[\"word count\"].describe().to_dict() for cat in collectedFrame[\"category\"].unique()}\n",
    "textStats[\"Total\"] = collectedFrame['word count'].describe().to_dict()\n",
    "writeDict(textStats, \"textStats\");"
   ]
  },
  {
   "cell_type": "code",
   "execution_count": 20,
   "metadata": {
    "execution": {
     "iopub.execute_input": "2022-06-14T08:34:52.515087Z",
     "iopub.status.busy": "2022-06-14T08:34:52.514498Z",
     "iopub.status.idle": "2022-06-14T08:34:52.525441Z",
     "shell.execute_reply": "2022-06-14T08:34:52.524057Z",
     "shell.execute_reply.started": "2022-06-14T08:34:52.515040Z"
    },
    "tags": []
   },
   "outputs": [
    {
     "data": {
      "text/plain": [
       "dict_keys(['Cannabis', 'DMT', 'Ketamine', 'LSD', 'MDMA', 'Mescaline/Cacti/Children', 'Psilocybin/Mushrooms'])"
      ]
     },
     "execution_count": 20,
     "metadata": {},
     "output_type": "execute_result"
    }
   ],
   "source": [
    "collected.keys()"
   ]
  },
  {
   "cell_type": "code",
   "execution_count": null,
   "metadata": {},
   "outputs": [],
   "source": []
  }
 ],
 "metadata": {
  "interpreter": {
   "hash": "025a379ec77ae0aeb83dea047b47cd86303afa91fb47dfcb76ff176a55e983a0"
  },
  "kernelspec": {
   "display_name": "Python 3 (ipykernel)",
   "language": "python",
   "name": "python3"
  },
  "language_info": {
   "codemirror_mode": {
    "name": "ipython",
    "version": 3
   },
   "file_extension": ".py",
   "mimetype": "text/x-python",
   "name": "python",
   "nbconvert_exporter": "python",
   "pygments_lexer": "ipython3",
   "version": "3.10.1"
  },
  "widgets": {
   "application/vnd.jupyter.widget-state+json": {
    "state": {},
    "version_major": 2,
    "version_minor": 0
   }
  }
 },
 "nbformat": 4,
 "nbformat_minor": 4
}
