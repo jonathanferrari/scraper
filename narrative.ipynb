{
 "cells": [
  {
   "cell_type": "code",
   "execution_count": 2,
   "metadata": {},
   "outputs": [],
   "source": [
    "import pandas as pd\n",
    "import numpy as np\n",
    "import os, json, re, sys, time, datetime, math, requests\n",
    "from utils import *"
   ]
  },
  {
   "cell_type": "code",
   "execution_count": 22,
   "metadata": {},
   "outputs": [],
   "source": [
    "idx = pd.read_csv(\"narratives/csv/index.csv\")\n",
    "df = pd.read_csv(\"narratives/csv/narratives.csv\")\n",
    "make_url = lambda id: f'https://github.jonathanferrari.com/scraper/narratives/txt/{id}.txt'\n",
    "df['url'] = df['id'].apply(make_url)\n",
    "index = df[[\"trip_type\", \"substance\", \"rating\", \"url\"]].copy()\n",
    "counts = index.url.value_counts().to_dict()\n",
    "is_pure = lambda url: counts[url] == 1\n",
    "index[\"pure\"] = index[\"url\"].apply(is_pure)\n",
    "index = index[['trip_type', 'substance', 'rating', 'pure', 'url']]\n",
    "index.to_csv(\"narratives/csv/index.csv\", index=False)"
   ]
  }
 ],
 "metadata": {
  "kernelspec": {
   "display_name": "Python 3",
   "language": "python",
   "name": "python3"
  },
  "language_info": {
   "codemirror_mode": {
    "name": "ipython",
    "version": 3
   },
   "file_extension": ".py",
   "mimetype": "text/x-python",
   "name": "python",
   "nbconvert_exporter": "python",
   "pygments_lexer": "ipython3",
   "version": "3.10.1"
  },
  "orig_nbformat": 4
 },
 "nbformat": 4,
 "nbformat_minor": 2
}
