{
 "cells": [
  {
   "cell_type": "code",
   "execution_count": 1,
   "metadata": {},
   "outputs": [],
   "source": [
    "import pandas as pd\n",
    "import numpy as np\n",
    "import os, json, re, sys, time, datetime, math, requests\n",
    "from utils import *"
   ]
  },
  {
   "cell_type": "code",
   "execution_count": 6,
   "metadata": {},
   "outputs": [],
   "source": [
    "# function to take a list of filenames and create a zip archive of those files\n",
    "def zipFiles(filenames, zipname):\n",
    "    import zipfile\n",
    "    zip = zipfile.ZipFile(zipname, 'w', zipfile.ZIP_DEFLATED)\n",
    "    for f in filenames:\n",
    "        zip.write(f)\n",
    "    zip.close()\n",
    "    \n",
    "# retreive the id column from the dataframe where trip_type is label\n",
    "def getTripIds(df, label):\n",
    "    return [f\"narratives/txt/{fn}.txt\" for fn in df.query(f\"trip_type == '{label}'\").id.tolist()]\n",
    "df = pd.read_csv('narratives/csv/narratives.csv')\n",
    "fns = getTripIds(df, 'first')\n",
    "zipFiles(fns, 'narratives/first.zip')"
   ]
  },
  {
   "cell_type": "code",
   "execution_count": 22,
   "metadata": {},
   "outputs": [],
   "source": [
    "idx = pd.read_csv(\"narratives/csv/index.csv\")\n",
    "df = pd.read_csv(\"narratives/csv/narratives.csv\")\n",
    "make_url = lambda id: f'https://github.jonathanferrari.com/scraper/narratives/txt/{id}.txt'\n",
    "df['url'] = df['id'].apply(make_url)\n",
    "index = df[[\"trip_type\", \"substance\", \"rating\", \"url\"]].copy()\n",
    "counts = index.url.value_counts().to_dict()\n",
    "is_pure = lambda url: counts[url] == 1\n",
    "index[\"pure\"] = index[\"url\"].apply(is_pure)\n",
    "index = index[['trip_type', 'substance', 'rating', 'pure', 'url']]\n",
    "index.to_csv(\"narratives/csv/index.csv\", index=False)"
   ]
  }
 ],
 "metadata": {
  "kernelspec": {
   "display_name": "Python 3",
   "language": "python",
   "name": "python3"
  },
  "language_info": {
   "codemirror_mode": {
    "name": "ipython",
    "version": 3
   },
   "file_extension": ".py",
   "mimetype": "text/x-python",
   "name": "python",
   "nbconvert_exporter": "python",
   "pygments_lexer": "ipython3",
   "version": "3.10.1"
  },
  "orig_nbformat": 4
 },
 "nbformat": 4,
 "nbformat_minor": 2
}
