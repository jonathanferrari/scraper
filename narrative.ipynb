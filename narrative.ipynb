{
 "cells": [
  {
   "cell_type": "code",
   "execution_count": 1,
   "metadata": {},
   "outputs": [],
   "source": [
    "import pandas as pd\n",
    "import numpy as np\n",
    "import os, json, re, sys, time, datetime, math\n",
    "from utils import *"
   ]
  },
  {
   "cell_type": "code",
   "execution_count": 11,
   "metadata": {},
   "outputs": [],
   "source": [
    "bad, first, general = [readDict(f\"data/{name}\") for name in [\"bad\", \"first\", \"general\"]]\n",
    "new_bad = reduceDict(bad)\n",
    "new_first = reduceDict(first)\n",
    "new_general = reduceDict(general)\n",
    "bad_csv, first_csv, general_csv = [dict_to_csv(d) for d in [new_bad, new_first, new_general]]\n",
    "narratives = pd.concat([bad_csv, first_csv, general_csv]).reset_index(drop=True)"
   ]
  },
  {
   "cell_type": "code",
   "execution_count": 27,
   "metadata": {},
   "outputs": [],
   "source": [
    "# take in a title and a string of text and write the text to a .txt file with the title as the filename\n",
    "def writeToFile(title, text):\n",
    "    with open(f\"narratives/txt/{title}.txt\", \"w\") as f:\n",
    "        f.write(text)\n",
    "id = narratives[\"id\"][0]\n",
    "text = narratives[\"text\"][0]\n",
    "writeToFile(id, text)"
   ]
  },
  {
   "cell_type": "code",
   "execution_count": 25,
   "metadata": {},
   "outputs": [],
   "source": []
  },
  {
   "cell_type": "code",
   "execution_count": null,
   "metadata": {},
   "outputs": [],
   "source": []
  }
 ],
 "metadata": {
  "kernelspec": {
   "display_name": "Python 3",
   "language": "python",
   "name": "python3"
  },
  "language_info": {
   "codemirror_mode": {
    "name": "ipython",
    "version": 3
   },
   "file_extension": ".py",
   "mimetype": "text/x-python",
   "name": "python",
   "nbconvert_exporter": "python",
   "pygments_lexer": "ipython3",
   "version": "3.10.1"
  },
  "orig_nbformat": 4
 },
 "nbformat": 4,
 "nbformat_minor": 2
}
