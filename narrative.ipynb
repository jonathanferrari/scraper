{
 "cells": [
  {
   "cell_type": "code",
   "execution_count": 29,
   "metadata": {},
   "outputs": [],
   "source": [
    "import pandas as pd\n",
    "import numpy as np\n",
    "import os, json, re, sys, time, datetime, math, requests\n",
    "from utils import *"
   ]
  },
  {
   "cell_type": "code",
   "execution_count": 33,
   "metadata": {},
   "outputs": [
    {
     "data": {
      "text/plain": [
       "\"Thinking back over my experiences I feel compelled to submit this one in regards to my most notable LSD experience.  A few years ago I'd begun taking LSD and very much enjoyed it.  Unlike mushrooms I never felt 'weirded-out' or overwhelmed.  Acid feels to me like I'm zooming around, alone, in my own mind without the 'E.T./higher intelligence/teaching' aspect that goes with mushrooms.\\r\\n\\r\\nAt any rate I aquired 5 green geltabs which were very highly recommended to me.  I started with 2 of them at about 11:00 P.M. with a roomate who was coming down from MDMA and almost ready to go to sleep.  The acid came on very intensely and I was quickly inundated with colorful geometric patterns that surged forth from everything around me.  Quite enthused at this I gleefully took the remaining 3 as my roomate went off to bed.\\r\\n\\r\\nThe trip quickly progressed to outlandish proportions and I found myself writhing about on the floor in ecstasy--the somatic pleasure a large dose of clean acid can induce is remarkable!  I had managed to turn on some electronic music before I became completely overwhelmed and as I lay there tried to get into it, however was unable due to the magnitude of the experience.  I was tripping 'in between' the single moments of the music such that it had no coherence and the song was essentially unrecognizable.  Between each note was occuring an enormous amount of visual and 'meta-cognitive' activity such that I was simply too distracted to hear the music.\\r\\n\\r\\nSometime thereafter I was flooded with massive, reveletory perceptions of 'eternal cosmic well-being' and began laughing uncontrollably and blurting out things like 'It's okay!!!  Everythings going to be okay!!!' etc etc.  At this point my roomate emerged and was upset as he claimed I was very loud and so he couldn't sleep.  Finally I managed to get a semblance of a grip on myself and promised to keep quiet.  This was nearly impossible and so I resorted to hiding behind the couch and smothering my laughter with a pillow.  \\r\\n\\r\\nEventually the laughter subsided and I then (for some reason) grappled with the TV until it turned on.  At this point the trip reached an intensity previously unknown to me and I began truly *hallucinating*.  In my life this had never happened and hasn't since that day.  What I was watching on TV was in no way what would be viewed by a 'sober' person.  Giant Mardi-Gras style parade floats with dancing Japanese soldier's batons took the place of a typical scene and at this point the 'education' began.  During the next couple of hours I watched as the history of humanity, and, primarily, the oppression of women was displayed to me.  Alongside these fantastic, kaleidoscopic colored 'super-beings'(who seemed composed of light-energy or some such substance) were black-and-white scenes of horrible, disfigured masses of humanity racing along.  The split was remarkable between the two.  Intermittenly these female 'super-beings' with these outrageous tentacle-things coming out of their heads would appear and explain the course of humanity to me.  It was explained that evolution was the 'name of the game' and that we were moving toward becoming these fantastic beings ourselves.  \\r\\n\\r\\nAll this was occurring through the TV and not through some manner of 'channeling' of information through my mind (ala mushrooms).  The beauty and 'awesome-ness' of the 'super-beings' was as intense as the horror and abject gruesome-ness of the black-and-white inmages that poured from the TV like a VCR tape running at 2X speed.  It was like a massive cosmic crash-course in the past and (maybe) future path of humanity.  I have since found that watching TV while 'tripping' is, invariably, a bad thing...  \\r\\n  \\r\\nThis is extra-ordinarily difficult for me to explain in this write-up what I experienced so try to make sense of it.  The entire room was basked in a white-ish light and the feeling to me was that something MAJOR/HUGE was occuring right then.  That THE 'big thing' was happening and I was totally overwhelmed with the cosmicity of it all.  I'd shut my eyes and feel like I was flying toward/through a narrow evolutionary filter--which was at once frightening and astonishing to me.   At around this time I also had rather serious revelations about myself and that I needed to resolve my own conflicts and issues--it all pointed back at me whenever I looked elsewhere for the causes of my misery and unhappyness in life.  My ego was shown to be something that was 'in the way' of this.\\r\\n\\r\\nNeedless to say I was quite unsettled by this experience and it took sometime for the earth-shaking revelations to 'assimilate'.  And no, I wasn't 'enlightened' from then onward and in fact found the magnitude of the revelations too large to incorporate practically in my life (coupled with a lack of desire to, among other issues).  I haven't taken LSD since then and not because I don't enjoy it, but because it's simply too 'mind-opening', like cracking an egg with a mallet or some such thing.  I find it to be too 'open-ended' and leaves me like a ball of yarn that's been unwound.  This is for high doses though and I'm sure that more prudent amounts would be more manageable to me if I'm ever so inclined again.  Other Tryptamines can have the same effect but I find that they often seem to bring me into contact with the aformentioned 'higher-intelligence-mind-info-channeling' thing that, although a bit creepy and 'weird' at times, can serve to guide and teach me in a more 'restrained' fashion...\""
      ]
     },
     "execution_count": 33,
     "metadata": {},
     "output_type": "execute_result"
    }
   ],
   "source": [
    "requests.get(\"https://raw.githubusercontent.com/jonathanferrari/scraper/main/narratives/txt/10013.txt\").text"
   ]
  },
  {
   "cell_type": "code",
   "execution_count": null,
   "metadata": {},
   "outputs": [],
   "source": []
  }
 ],
 "metadata": {
  "kernelspec": {
   "display_name": "Python 3",
   "language": "python",
   "name": "python3"
  },
  "language_info": {
   "codemirror_mode": {
    "name": "ipython",
    "version": 3
   },
   "file_extension": ".py",
   "mimetype": "text/x-python",
   "name": "python",
   "nbconvert_exporter": "python",
   "pygments_lexer": "ipython3",
   "version": "3.10.1"
  },
  "orig_nbformat": 4
 },
 "nbformat": 4,
 "nbformat_minor": 2
}
