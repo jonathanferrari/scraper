{
 "cells": [
  {
   "cell_type": "code",
   "execution_count": 1,
   "metadata": {},
   "outputs": [],
   "source": [
    "import pandas as pd, numpy as np, plotly.express as px, seaborn as sns, os, json, re, zipfile, requests, io, time, datetime, warnings"
   ]
  },
  {
   "cell_type": "code",
   "execution_count": 3,
   "metadata": {},
   "outputs": [],
   "source": [
    "bad = pd.read_csv('csv/data/bad.csv')\n",
    "first = pd.read_csv('csv/data/first.csv')\n",
    "general = pd.read_csv('csv/data/general.csv')\n",
    "index = pd.read_csv('narratives/csv/index.csv')\n",
    "narratives = pd.read_csv('narratives/csv/narratives.csv')"
   ]
  },
  {
   "cell_type": "code",
   "execution_count": 38,
   "metadata": {},
   "outputs": [],
   "source": [
    "get_id = lambda x: int(x.split(\"/\")[-1].split(\".\")[0])\n",
    "index[\"id\"] = index[\"url\"].apply(get_id)\n",
    "first_ids = set(first.id)\n",
    "is_not_first = lambda x: not (x in first_ids)\n",
    "bad = bad[[\"id\", \"text\"]]\n",
    "not_first = bad[\"id\"].apply(is_not_first)\n",
    "bad[\"not_first\"] = not_first\n",
    "not_first = bad.query(\"not_first == True\").drop(\"not_first\", axis=1)\n",
    "bad_not_first = {row[\"id\"]: row[\"text\"] for _, row in not_first.iterrows()}"
   ]
  },
  {
   "cell_type": "code",
   "execution_count": null,
   "metadata": {},
   "outputs": [],
   "source": [
    "# using the bad_not_first dictionary, create a zip file. This file should be called\n",
    "# bad.zip and should contain the bad narratives that are not the first narrative\n",
    "# each file in the zip should be named {id}.txt where {id} is the id of the narrative\n",
    "# the contents of the file should be the text of the narrative\n",
    "\n",
    "with zipfile.ZipFile(\"bad.zip\", \"w\") as z:\n",
    "    for id, text in bad_not_first.items():\n",
    "        z.writestr(f\"{id}.txt\", text)"
   ]
  }
 ],
 "metadata": {
  "kernelspec": {
   "display_name": "Python 3",
   "language": "python",
   "name": "python3"
  },
  "language_info": {
   "codemirror_mode": {
    "name": "ipython",
    "version": 3
   },
   "file_extension": ".py",
   "mimetype": "text/x-python",
   "name": "python",
   "nbconvert_exporter": "python",
   "pygments_lexer": "ipython3",
   "version": "3.10.1"
  },
  "orig_nbformat": 4
 },
 "nbformat": 4,
 "nbformat_minor": 2
}
