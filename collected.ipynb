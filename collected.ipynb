{
 "cells": [
  {
   "cell_type": "markdown",
   "metadata": {},
   "source": [
    "# Prep"
   ]
  },
  {
   "cell_type": "markdown",
   "metadata": {
    "tags": []
   },
   "source": [
    "## Imports"
   ]
  },
  {
   "cell_type": "code",
   "execution_count": 41,
   "metadata": {
    "execution": {
     "iopub.execute_input": "2022-05-24T03:11:15.575916Z",
     "iopub.status.busy": "2022-05-24T03:11:15.575581Z",
     "iopub.status.idle": "2022-05-24T03:11:20.498749Z",
     "shell.execute_reply": "2022-05-24T03:11:20.497782Z",
     "shell.execute_reply.started": "2022-05-24T03:11:15.575845Z"
    },
    "tags": []
   },
   "outputs": [],
   "source": [
    "import pandas as pd\n",
    "import numpy as np\n",
    "from utils import *;\n",
    "from IPython.display import *;\n",
    "import re\n",
    "import json\n",
    "import os\n",
    "import sys\n",
    "import warnings\n",
    "warnings.filterwarnings(\"ignore\")"
   ]
  },
  {
   "cell_type": "markdown",
   "metadata": {
    "tags": []
   },
   "source": [
    "## Helpers"
   ]
  },
  {
   "cell_type": "code",
   "execution_count": 58,
   "metadata": {
    "execution": {
     "iopub.execute_input": "2022-05-24T03:11:20.501020Z",
     "iopub.status.busy": "2022-05-24T03:11:20.499928Z",
     "iopub.status.idle": "2022-05-24T03:11:20.564599Z",
     "shell.execute_reply": "2022-05-24T03:11:20.533764Z",
     "shell.execute_reply.started": "2022-05-24T03:11:20.500977Z"
    },
    "tags": []
   },
   "outputs": [],
   "source": [
    "def readDict(file):\n",
    "    with open(f\"dictionaries/{file}.json\") as infile:\n",
    "        subs = json.load(infile)\n",
    "    return intKey(subs)\n",
    "\n",
    "def sumDict(dicts):\n",
    "    full = {}\n",
    "    for dic in dicts:\n",
    "        full = full | dic\n",
    "    return full\n",
    "\n",
    "def writeDict(dct, file):\n",
    "    with open(f\"dictionaries/{file}.json\", \"w\") as outfile:\n",
    "        json.dump(dct, outfile, indent=4, sort_keys=True)\n",
    "    return dct\n",
    "\n",
    "def addDict(file=None, dct = None, keys = None, values = None):\n",
    "    if not dct: \n",
    "        dct = readDict(file)\n",
    "    if keys and values:\n",
    "        if type(keys) != list:\n",
    "            dct[keys] += values\n",
    "        else:\n",
    "            assert len(keys) == len(values), \\\n",
    "            f\"\"\"Keys and values must have same length:\n",
    "                Given Keys:{len(keys)} and Values:{len(values)}\"\"\"\n",
    "            for key, value in zip(keys, values):\n",
    "                dct[key] += value  \n",
    "    writeDict(dct, file)\n",
    "    \n",
    "def emptyRetrieved():\n",
    "    sk = readDict(\"substances\")\n",
    "    dct = {k : {} for k in sk.keys()}\n",
    "    return writeDict(dct, \"retrieved\")\n",
    "\n",
    "def intKey(dct):\n",
    "    if (type(dct) == dict) and (dct != {}):\n",
    "        try:\n",
    "            return {int(k) : intKey(v) for k, v in dct.items()}\n",
    "        except Exception as e:\n",
    "            return dct\n",
    "    else:\n",
    "        return dct"
   ]
  },
  {
   "cell_type": "code",
   "execution_count": 59,
   "metadata": {
    "execution": {
     "iopub.execute_input": "2022-05-24T03:11:20.588930Z",
     "iopub.status.busy": "2022-05-24T03:11:20.587965Z",
     "iopub.status.idle": "2022-05-24T03:11:20.615964Z",
     "shell.execute_reply": "2022-05-24T03:11:20.604513Z",
     "shell.execute_reply.started": "2022-05-24T03:11:20.588878Z"
    },
    "tags": []
   },
   "outputs": [],
   "source": [
    "def flatten(t):\n",
    "    return sum([[i] if type(i) != list else i for i in t], [])"
   ]
  },
  {
   "cell_type": "code",
   "execution_count": 60,
   "metadata": {
    "execution": {
     "iopub.execute_input": "2022-05-24T03:11:20.629521Z",
     "iopub.status.busy": "2022-05-24T03:11:20.626367Z",
     "iopub.status.idle": "2022-05-24T03:11:20.647810Z",
     "shell.execute_reply": "2022-05-24T03:11:20.645776Z",
     "shell.execute_reply.started": "2022-05-24T03:11:20.629456Z"
    },
    "tags": []
   },
   "outputs": [],
   "source": [
    "def getExperiences(subID, most=20, conditions=None):\n",
    "    add =  \"&a=experience_data\" + \\\n",
    "          f\"&substance_id={subID}&max={most}\" + \\\n",
    "           \"&format=xml\"\n",
    "    url = link + add \n",
    "    val_dict = {}\n",
    "    content = requests.get(url).text\n",
    "    exps = re.split(r\"<experience>|</experience>\", content)[1:-1]\n",
    "    while (\"\\n\\n\\n\" in exps):\n",
    "        exps.remove(\"\\n\\n\\n\")\n",
    "    dct = {}\n",
    "    for i in range(len(exps)):\n",
    "        exp = Experience(exps[i])\n",
    "        fits = True\n",
    "        if conditions:\n",
    "            for condition in conditions:\n",
    "                met = eval(condition)\n",
    "                fits = fits and met\n",
    "        if fits:\n",
    "            dct[exp.get(\"id\")] = exp\n",
    "    return dct\n",
    "\n",
    "def experienceList(subID, most=20, conditions = None):\n",
    "    dct = getExperiences(subID, most=most, conditions = conditions)\n",
    "    return list(dct.values())"
   ]
  },
  {
   "cell_type": "code",
   "execution_count": 61,
   "metadata": {
    "execution": {
     "iopub.execute_input": "2022-05-24T03:11:20.651373Z",
     "iopub.status.busy": "2022-05-24T03:11:20.650896Z",
     "iopub.status.idle": "2022-05-24T03:11:20.664134Z",
     "shell.execute_reply": "2022-05-24T03:11:20.662308Z",
     "shell.execute_reply.started": "2022-05-24T03:11:20.651317Z"
    },
    "tags": []
   },
   "outputs": [],
   "source": [
    "def retrieve(\n",
    "    subID : int,\n",
    "    most : int = 20, \n",
    "    conditions : list = None):\n",
    "    \"\"\"\n",
    "    Add substances to ``dictionaries/retrieved.json``\n",
    "    that meet all conditions in ``conditions``,\n",
    "    and update the file accordingly\n",
    "\n",
    "    Parameters\n",
    "    ----------\n",
    "    subID : int\n",
    "        The numerical ID of the substance to \n",
    "        get experiences from.\n",
    "    most : int = 20\n",
    "        The maximum amount of experiences to pull;\n",
    "        this is the number of all experiences, the \n",
    "        number which meet ``conditions`` may be much\n",
    "        lower.\n",
    "    conditions : list = None\n",
    "        Conditions that each experience must meet in\n",
    "        order to be part of the returned dictionary.\n",
    "\n",
    "    Returns\n",
    "    -------\n",
    "    Updated Dictionary : dict\n",
    "    \"\"\"\n",
    "    dct = getExperiences(subID, most, conditions)\n",
    "    retrieved = readDict(\"retrieved\")\n",
    "    working = retrieved[subID]\n",
    "    for k, v in dct.items():\n",
    "        if not (k in working.keys()):\n",
    "            working[k] = vars(v)\n",
    "    retrieved[subID] = working\n",
    "    writeDict(retrieved, \"retrieved\")"
   ]
  },
  {
   "cell_type": "markdown",
   "metadata": {
    "tags": []
   },
   "source": [
    "## Experience Class"
   ]
  },
  {
   "cell_type": "code",
   "execution_count": 76,
   "metadata": {
    "execution": {
     "iopub.execute_input": "2022-05-24T03:11:20.668289Z",
     "iopub.status.busy": "2022-05-24T03:11:20.667796Z",
     "iopub.status.idle": "2022-05-24T03:11:20.703826Z",
     "shell.execute_reply": "2022-05-24T03:11:20.701285Z",
     "shell.execute_reply.started": "2022-05-24T03:11:20.668242Z"
    },
    "tags": []
   },
   "outputs": [],
   "source": [
    "class Experience:\n",
    "    \n",
    "    def fromDict(dct : dict):\n",
    "        return Experience(**dct)\n",
    "\n",
    "    def toFrame(c : dict):\n",
    "        exps = {key : { k : Experience(**v) for k, v in val.items()} for key, val in c.items()}\n",
    "        dl = []\n",
    "        for key in exps.keys():\n",
    "            for exp in exps[key].values():\n",
    "                temp = exp.info\n",
    "                temp[\"substance\"] = key\n",
    "                temp[\"name\"] = exp.name\n",
    "                dl.append(temp)\n",
    "        frame = pd.DataFrame(dl)\n",
    "        reordered = [\"substance\", \"name\", \"id\", \"list-number\", \"title\", \"author\", \n",
    "                    \"substance-string\", 'body-weight', 'gender', 'published-date', 'submitted-date',\n",
    "                    'experience-year', 'intensity', 'primary-category-id', 'substance-id-list', \n",
    "                    'category-id-list', 'published-rating', 'body-changes', 'text']\n",
    "        frame = frame[reordered]\n",
    "        frame.columns = [\"category\", \"name\", \"id\", \"list index\", \"title\", \"author\", \n",
    "                        \"substance\", 'weight', 'gender', 'published', 'submitted',\n",
    "                        'year', 'intensity', 'primary category', 'substance id', \n",
    "                        'secondary category', 'rating', 'changes', 'text']\n",
    "        frame[\"word count\"] = frame[\"text\"].str.rsplit().apply(len)\n",
    "        return frame\n",
    "\n",
    "    \n",
    "    def __repr__(self):\n",
    "        dct  = self.info\n",
    "        ss, ln = dct[\"substance-string\"].strip(), dct[\"list-number\"]\n",
    "        return f\"Experience: {{ Substance: {ss},  List-ID: {ln} }}\"\n",
    "        \n",
    "    def __str__(self):\n",
    "        return self.name\n",
    "        \n",
    "    def __init__(self, string : str, \n",
    "                 info = None, text = None, name = None):\n",
    "        self.string = string\n",
    "        self.readInfo()\n",
    "        for i, k in self.info.items():\n",
    "            if self.info.get(i) == \"\":\n",
    "                self.info[i] = None\n",
    "        self.makeName()\n",
    "    \n",
    "    def get(self, key : str):\n",
    "        if key in (inf := self.info):\n",
    "            return inf.get(key)\n",
    "        else:\n",
    "            print(f\"{key} is not a valid key.\",\n",
    "                  \"Please select one of the following: \\n\")\n",
    "            for key in inf.keys():\n",
    "                if key == \"text\":\n",
    "                    print(key)\n",
    "                else:\n",
    "                    print(key, end = \",\" + \" \"*(30 - len(key)) + \"\\t\")\n",
    "                    \n",
    "    def isPure(self):\n",
    "        tpe = (type(self.get(\"substance-id-list\")) == int)\n",
    "        nme = self.get(\"substance-string\")\n",
    "        mul = not ((\",\" in nme) or (\"&\" in nme))\n",
    "        return tpe and mul\n",
    "    \n",
    "    def isFirst(self):\n",
    "        return 2 in self.get(\"category-id-list\")\n",
    "        \n",
    "    def readInfo(self):\n",
    "        vallst = re.findall(r\"<(.*)>(.*)</.*>\", self.string)\n",
    "        dct = dict(vallst)\n",
    "        for key in dct.keys():\n",
    "            try:\n",
    "                dct[key] = eval(dct[key])\n",
    "            except Exception as e:\n",
    "                dct[key] = dct[key]\n",
    "        self.info = dct\n",
    "        txt = re.split(r\"<experience-text>|</experience-text>\", self.string)[1]\n",
    "        self.info['text'] = txt\n",
    "        self.text = txt\n",
    "        self.info[\"list-number\"] = self.info[\"list-number\"] - 1\n",
    "        \n",
    "    def makeName(self):\n",
    "        dct = self.info\n",
    "        name = dct[\"substance-string\"].strip() + str(dct[\"list-number\"])\n",
    "        self.name = name.lower().replace(\" \", \"_\").replace(\"&\", \"n\")\n",
    "        \n",
    "    def listInfo(self):\n",
    "        return list(self.info.keys())\n",
    "\n",
    "    def toJSON(self):\n",
    "        return json.dumps(self, default=lambda o: vars(o), \n",
    "            sort_keys=True, indent=4)\n",
    "        "
   ]
  },
  {
   "cell_type": "markdown",
   "metadata": {},
   "source": [
    "## Variables"
   ]
  },
  {
   "cell_type": "markdown",
   "metadata": {
    "tags": []
   },
   "source": [
    "### link"
   ]
  },
  {
   "cell_type": "code",
   "execution_count": 77,
   "metadata": {
    "execution": {
     "iopub.execute_input": "2022-05-24T03:11:20.707118Z",
     "iopub.status.busy": "2022-05-24T03:11:20.706650Z",
     "iopub.status.idle": "2022-05-24T03:11:20.718212Z",
     "shell.execute_reply": "2022-05-24T03:11:20.715281Z",
     "shell.execute_reply.started": "2022-05-24T03:11:20.707074Z"
    },
    "tags": []
   },
   "outputs": [],
   "source": [
    "base_url = \"https://erowid.org/experiences/research/\"\n",
    "api_code = \"exp_api.php?api_code=berkeley_bcsp_tyrone_2022\"\n",
    "link = base_url + api_code"
   ]
  },
  {
   "cell_type": "markdown",
   "metadata": {},
   "source": [
    "## Tables"
   ]
  },
  {
   "cell_type": "code",
   "execution_count": 78,
   "metadata": {
    "execution": {
     "iopub.execute_input": "2022-05-24T03:11:20.721420Z",
     "iopub.status.busy": "2022-05-24T03:11:20.720828Z",
     "iopub.status.idle": "2022-05-24T03:11:20.787799Z",
     "shell.execute_reply": "2022-05-24T03:11:20.785135Z",
     "shell.execute_reply.started": "2022-05-24T03:11:20.721189Z"
    },
    "tags": []
   },
   "outputs": [],
   "source": [
    "substances = pd.read_csv(\"csv/substance.csv\")"
   ]
  },
  {
   "cell_type": "markdown",
   "metadata": {},
   "source": [
    "# Working Area"
   ]
  },
  {
   "cell_type": "code",
   "execution_count": 79,
   "metadata": {},
   "outputs": [],
   "source": [
    "collected = readDict(\"collected\")"
   ]
  },
  {
   "cell_type": "code",
   "execution_count": 99,
   "metadata": {},
   "outputs": [],
   "source": [
    "collectedFrame = Experience.toFrame(collected)\n",
    "collectedFrame.to_csv(\"csv/collected.csv\")"
   ]
  },
  {
   "cell_type": "code",
   "execution_count": 98,
   "metadata": {},
   "outputs": [],
   "source": [
    "textStats = {cat : collectedFrame.query(f\"category == '{cat}'\")[\"word count\"].describe().to_dict() for cat in collectedFrame[\"category\"].unique()}\n",
    "textStats[\"Total\"] = collectedFrame['word count'].describe().to_dict()\n",
    "writeDict(textStats, \"textStats\");"
   ]
  }
 ],
 "metadata": {
  "interpreter": {
   "hash": "025a379ec77ae0aeb83dea047b47cd86303afa91fb47dfcb76ff176a55e983a0"
  },
  "kernelspec": {
   "display_name": "Python 3 (ipykernel)",
   "language": "python",
   "name": "python3"
  },
  "language_info": {
   "codemirror_mode": {
    "name": "ipython",
    "version": 3
   },
   "file_extension": ".py",
   "mimetype": "text/x-python",
   "name": "python",
   "nbconvert_exporter": "python",
   "pygments_lexer": "ipython3",
   "version": "3.10.1"
  },
  "widgets": {
   "application/vnd.jupyter.widget-state+json": {
    "state": {},
    "version_major": 2,
    "version_minor": 0
   }
  }
 },
 "nbformat": 4,
 "nbformat_minor": 4
}
