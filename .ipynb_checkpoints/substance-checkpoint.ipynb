{
 "cells": [
  {
   "cell_type": "markdown",
   "metadata": {},
   "source": [
    "## Imports"
   ]
  },
  {
   "cell_type": "code",
   "execution_count": 45,
   "metadata": {
    "execution": {
     "iopub.execute_input": "2022-05-23T08:37:40.062546Z",
     "iopub.status.busy": "2022-05-23T08:37:40.062153Z",
     "iopub.status.idle": "2022-05-23T08:37:40.091977Z",
     "shell.execute_reply": "2022-05-23T08:37:40.090915Z",
     "shell.execute_reply.started": "2022-05-23T08:37:40.062495Z"
    },
    "tags": []
   },
   "outputs": [],
   "source": [
    "import pandas as pd\n",
    "import numpy as np\n",
    "from utils import *;\n",
    "from queryAnswer import *;\n",
    "from IPython.display import *;\n",
    "import re"
   ]
  },
  {
   "cell_type": "code",
   "execution_count": 46,
   "metadata": {
    "execution": {
     "iopub.execute_input": "2022-05-23T08:37:40.485965Z",
     "iopub.status.busy": "2022-05-23T08:37:40.485644Z",
     "iopub.status.idle": "2022-05-23T08:37:40.505528Z",
     "shell.execute_reply": "2022-05-23T08:37:40.504516Z",
     "shell.execute_reply.started": "2022-05-23T08:37:40.485935Z"
    },
    "tags": []
   },
   "outputs": [
    {
     "data": {
      "text/plain": [
       "'https://erowid.org/experiences/research/exp_api.php?api_code=berkeley_bcsp_tyrone_2022'"
      ]
     },
     "execution_count": 46,
     "metadata": {},
     "output_type": "execute_result"
    }
   ],
   "source": [
    "base_url = \"https://erowid.org/experiences/research/\"\n",
    "api_code = \"exp_api.php?api_code=berkeley_bcsp_tyrone_2022\"\n",
    "link = base_url + api_code \n",
    "link"
   ]
  },
  {
   "cell_type": "code",
   "execution_count": 246,
   "metadata": {
    "execution": {
     "iopub.execute_input": "2022-05-23T21:49:07.708310Z",
     "iopub.status.busy": "2022-05-23T21:49:07.707969Z",
     "iopub.status.idle": "2022-05-23T21:49:07.718122Z",
     "shell.execute_reply": "2022-05-23T21:49:07.716729Z",
     "shell.execute_reply.started": "2022-05-23T21:49:07.708279Z"
    },
    "tags": []
   },
   "outputs": [],
   "source": [
    "def getExp(subID, most=20):\n",
    "    add = f\"&a=experience_data&experience_id=1&substance_id={subID}&max={most}\"\n",
    "    url = link + add + \"&format=xml\"\n",
    "    val_dict = {}\n",
    "    content = requests.get(url).text\n",
    "    exps = re.split(r\"<experience>|</experience>\", content)[2:-1]\n",
    "    while (\"\\n\\n\\n\" in exps):\n",
    "        exps.remove(\"\\n\\n\\n\")\n",
    "    dct = {}\n",
    "    for i in range(len(exps)):\n",
    "        exp = Experience(exps[i])\n",
    "        dct[exp.name] = exp\n",
    "    return dct"
   ]
  },
  {
   "cell_type": "markdown",
   "metadata": {},
   "source": [
    "## Pre-Processing"
   ]
  },
  {
   "cell_type": "code",
   "execution_count": 244,
   "metadata": {
    "execution": {
     "iopub.execute_input": "2022-05-23T21:48:22.130113Z",
     "iopub.status.busy": "2022-05-23T21:48:22.129654Z",
     "iopub.status.idle": "2022-05-23T21:48:22.161726Z",
     "shell.execute_reply": "2022-05-23T21:48:22.160370Z",
     "shell.execute_reply.started": "2022-05-23T21:48:22.130077Z"
    },
    "tags": []
   },
   "outputs": [],
   "source": [
    "class Experience:\n",
    "    \n",
    "    def __repr__(self):\n",
    "        dct  = self.info\n",
    "        ss, ln = dct[\"substance-string\"].strip(), dct[\"list-number\"].strip()\n",
    "        return f\"Experience: {{ Substance: {ss},  List-ID: {ln} }}\"\n",
    "        \n",
    "    def __str__(self):\n",
    "        return self.name\n",
    "        \n",
    "    def __init__(self, exp_str : str):\n",
    "        self.str = exp_str\n",
    "        self.readInfo()\n",
    "        for i, k in self.info.items():\n",
    "            if self.info.get(i) == \"\":\n",
    "                self.info[i] = None\n",
    "        self.makeName()\n",
    "    \n",
    "    def get(self, key : str):\n",
    "        if key in (inf := self.info):\n",
    "            return inf.get(key)\n",
    "        else:\n",
    "            print(f\"{key} is not a valid key.\",\n",
    "                  \"Please select one of the following: \\n\")\n",
    "            for key in inf.keys():\n",
    "                if key == \"text\":\n",
    "                    print(key)\n",
    "                else:\n",
    "                    print(key, end = \",\" + \" \"*(30 - len(key)) + \"\\t\")\n",
    "                    \n",
    "    def isPure(self):\n",
    "        return not (\",\" in self.get(\"substance-id-list\"))\n",
    "        \n",
    "    def readInfo(self):\n",
    "        vallst = re.findall(r\"<(.*)>(.*)</.*>\", self.str)\n",
    "        self.info = dict(vallst)\n",
    "        txt = re.split(r\"<experience-text>|</experience-text>\", self.str)[1]\n",
    "        self.info['text'] = txt\n",
    "        self.text = txt\n",
    "        self.info[\"list-number\"] = str(eval(self.info[\"list-number\"]) - 1)\n",
    "        \n",
    "    def makeName(self):\n",
    "        dct = self.info\n",
    "        name = dct[\"substance-string\"].strip() + dct[\"list-number\"].strip()\n",
    "        self.name = name.lower().replace(\" \", \"_\").replace(\"&\", \"n\")\n",
    "        \n",
    "    def listInfo(self):\n",
    "        return list(self.info.keys())\n"
   ]
  },
  {
   "cell_type": "code",
   "execution_count": 200,
   "metadata": {
    "execution": {
     "iopub.execute_input": "2022-05-23T09:40:50.772111Z",
     "iopub.status.busy": "2022-05-23T09:40:50.771774Z",
     "iopub.status.idle": "2022-05-23T09:40:50.873596Z",
     "shell.execute_reply": "2022-05-23T09:40:50.871799Z",
     "shell.execute_reply.started": "2022-05-23T09:40:50.772080Z"
    },
    "tags": []
   },
   "outputs": [],
   "source": [
    "substances = pd.read_csv(\"substance.csv\").iloc[:, 1:]\n",
    "substances.iloc[:, 0] = substances.iloc[:, 0].str.replace(\"&#945;\",\"\")\n",
    "substances = substances.sort_values(by=\"Published Report Count inc cellar\", ascending = 0)\n",
    "substances = substances.query(\"`Published Report Count inc cellar` > 100\")"
   ]
  },
  {
   "cell_type": "markdown",
   "metadata": {},
   "source": [
    "https://erowid.org/experiences/research/exp_api.php?api_code=berkeley_bcsp_tyrone_2022&substance_id=1&a=experience_data&max=1"
   ]
  },
  {
   "cell_type": "code",
   "execution_count": null,
   "metadata": {},
   "outputs": [],
   "source": []
  }
 ],
 "metadata": {
  "interpreter": {
   "hash": "aee8b7b246df8f9039afb4144a1f6fd8d2ca17a180786b69acc140d282b71a49"
  },
  "kernelspec": {
   "display_name": "Python 3 (ipykernel)",
   "language": "python",
   "name": "python3"
  },
  "language_info": {
   "codemirror_mode": {
    "name": "ipython",
    "version": 3
   },
   "file_extension": ".py",
   "mimetype": "text/x-python",
   "name": "python",
   "nbconvert_exporter": "python",
   "pygments_lexer": "ipython3",
   "version": "3.10.1"
  },
  "widgets": {
   "application/vnd.jupyter.widget-state+json": {
    "state": {
     "031e66f6fe5c4fa2b8f0ba2ba9e838b5": {
      "model_module": "@jupyter-widgets/output",
      "model_module_version": "1.0.0",
      "model_name": "OutputModel",
      "state": {
       "layout": "IPY_MODEL_7d9a317d8cb448678542a436858a66cc",
       "outputs": [
        {
         "data": {
          "text/markdown": "Mount Everest is 29,029 feet tall.",
          "text/plain": "<IPython.core.display.Markdown object>"
         },
         "metadata": {},
         "output_type": "display_data"
        }
       ]
      }
     },
     "051032686bc64a52a809910d7062456d": {
      "model_module": "@jupyter-widgets/base",
      "model_module_version": "1.2.0",
      "model_name": "LayoutModel",
      "state": {}
     },
     "1e4539bffb7545e9bff8d6bbc60d2b7b": {
      "model_module": "@jupyter-widgets/controls",
      "model_module_version": "1.5.0",
      "model_name": "TextareaModel",
      "state": {
       "continuous_update": false,
       "description": "Question:",
       "layout": "IPY_MODEL_5e4852b91b2a40439d379fea708c6d5a",
       "placeholder": "Ask Gary a question",
       "style": "IPY_MODEL_310b40f50dc84d68afce4f0180ce661c",
       "value": "How tall is Mount Everest?"
      }
     },
     "310b40f50dc84d68afce4f0180ce661c": {
      "model_module": "@jupyter-widgets/controls",
      "model_module_version": "1.5.0",
      "model_name": "DescriptionStyleModel",
      "state": {
       "description_width": ""
      }
     },
     "5e4852b91b2a40439d379fea708c6d5a": {
      "model_module": "@jupyter-widgets/base",
      "model_module_version": "1.2.0",
      "model_name": "LayoutModel",
      "state": {}
     },
     "7bba7239c90641468d22da83c2242c9c": {
      "model_module": "@jupyter-widgets/controls",
      "model_module_version": "1.5.0",
      "model_name": "VBoxModel",
      "state": {
       "_dom_classes": [
        "widget-interact"
       ],
       "children": [
        "IPY_MODEL_1e4539bffb7545e9bff8d6bbc60d2b7b",
        "IPY_MODEL_031e66f6fe5c4fa2b8f0ba2ba9e838b5"
       ],
       "layout": "IPY_MODEL_051032686bc64a52a809910d7062456d"
      }
     },
     "7d9a317d8cb448678542a436858a66cc": {
      "model_module": "@jupyter-widgets/base",
      "model_module_version": "1.2.0",
      "model_name": "LayoutModel",
      "state": {}
     }
    },
    "version_major": 2,
    "version_minor": 0
   }
  }
 },
 "nbformat": 4,
 "nbformat_minor": 4
}
