{
 "cells": [
  {
   "cell_type": "markdown",
   "metadata": {},
   "source": [
    "## Imports"
   ]
  },
  {
   "cell_type": "code",
   "execution_count": 1,
   "metadata": {},
   "outputs": [],
   "source": [
    "import pandas as pd\n",
    "import numpy as np\n",
    "from IPython.display import *"
   ]
  },
  {
   "cell_type": "markdown",
   "metadata": {},
   "source": [
    "## Pre-Processing"
   ]
  },
  {
   "cell_type": "code",
   "execution_count": 6,
   "metadata": {},
   "outputs": [
    {
     "data": {
      "text/markdown": [
       "|    | Substance Name   |   Substance ID |   Published Report Count inc cellar | ID List URL                                                                                                                                                                | Data XML Blob                                                                                                                                                                  | Alternate/Other Names                                                    | Equiv (Child) Substance IDs   |\n",
       "|---:|:-----------------|---------------:|------------------------------------:|:---------------------------------------------------------------------------------------------------------------------------------------------------------------------------|:-------------------------------------------------------------------------------------------------------------------------------------------------------------------------------|:-------------------------------------------------------------------------|:------------------------------|\n",
       "|  1 | &#945;-PCYP      |  907           |  2                                  | <a href=\"https://erowid.org/experiences/research/exp_api.php?api_code=berkeley_bcsp_tyrone_2022&amp;a=experience_list&amp;substance_id=907&amp;max=3\">Experience List</a>  | <a href=\"https://erowid.org/experiences/research/exp_api.php?api_code=berkeley_bcsp_tyrone_2022&amp;a=experience_data&amp;substance_id=907&amp;format=xml\">Experience Data</a> | a-PCYP; alpha-PCYP; 2-Cyclohexyl-1-phenyl-2-(pyrrolidin-1-yl)ethan-1-one |                               |\n",
       "|  2 | &#945;-PHiP      |  945           |  1                                  | <a href=\"https://erowid.org/experiences/research/exp_api.php?api_code=berkeley_bcsp_tyrone_2022&amp;a=experience_list&amp;substance_id=945&amp;max=2\">Experience List</a>  | <a href=\"https://erowid.org/experiences/research/exp_api.php?api_code=berkeley_bcsp_tyrone_2022&amp;a=experience_data&amp;substance_id=945&amp;format=xml\">Experience Data</a> | alpha-PHiP; alpha-Pyrrolidinoisohexaphenone                              |                               |\n",
       "|  3 | &#945;-PHP       |  677           |  11                                 | <a href=\"https://erowid.org/experiences/research/exp_api.php?api_code=berkeley_bcsp_tyrone_2022&amp;a=experience_list&amp;substance_id=677&amp;max=12\">Experience List</a> | <a href=\"https://erowid.org/experiences/research/exp_api.php?api_code=berkeley_bcsp_tyrone_2022&amp;a=experience_data&amp;substance_id=677&amp;format=xml\">Experience Data</a> | a-PHP; alpha-PHP; aPHP; 1-phenyl-2-(1-pyrrolidinyl)-1-hexanone           |                               |\n",
       "|  4 | &#945;-PVP       |  585           |  13                                 | <a href=\"https://erowid.org/experiences/research/exp_api.php?api_code=berkeley_bcsp_tyrone_2022&amp;a=experience_list&amp;substance_id=585&amp;max=14\">Experience List</a> | <a href=\"https://erowid.org/experiences/research/exp_api.php?api_code=berkeley_bcsp_tyrone_2022&amp;a=experience_data&amp;substance_id=585&amp;format=xml\">Experience Data</a> | a-PVP; alpha-PVP; alpha-Pyrrolidinopentiophenone; flakka                 |                               |\n",
       "|  5 | 1,4-Butanediol   |  51            |  74                                 | <a href=\"https://erowid.org/experiences/research/exp_api.php?api_code=berkeley_bcsp_tyrone_2022&amp;a=experience_list&amp;substance_id=51&amp;max=75\">Experience List</a>  | <a href=\"https://erowid.org/experiences/research/exp_api.php?api_code=berkeley_bcsp_tyrone_2022&amp;a=experience_data&amp;substance_id=51&amp;format=xml\">Experience Data</a>  | 1,4-B; 14B                                                               |                               |"
      ],
      "text/plain": [
       "<IPython.core.display.Markdown object>"
      ]
     },
     "execution_count": 6,
     "metadata": {},
     "output_type": "execute_result"
    }
   ],
   "source": [
    "substanceDataFrame = pd.read_csv('/Users/jonathanferrari/Downloads/web scraper/subtance.md', sep = \"|\").drop(\n",
    "    columns = [\"Unnamed: 0\", \"Unnamed: 9\"]).iloc[1:, :]\n",
    "substanceDataFrame.columns = substanceDataFrame.columns.str.strip(\" \")\n",
    "substanceDataFrame = substanceDataFrame.drop(columns=\"Non-Substance Flag\")\n",
    "substanceDataFrame.to_csv(\"substance.csv\")\n",
    "substanceDataFrame.show(5, t=\"m\")"
   ]
  },
  {
   "cell_type": "code",
   "execution_count": null,
   "metadata": {},
   "outputs": [],
   "source": []
  }
 ],
 "metadata": {
  "interpreter": {
   "hash": "aee8b7b246df8f9039afb4144a1f6fd8d2ca17a180786b69acc140d282b71a49"
  },
  "kernelspec": {
   "display_name": "Python 3.10.1 64-bit",
   "language": "python",
   "name": "python3"
  },
  "language_info": {
   "codemirror_mode": {
    "name": "ipython",
    "version": 3
   },
   "file_extension": ".py",
   "mimetype": "text/x-python",
   "name": "python",
   "nbconvert_exporter": "python",
   "pygments_lexer": "ipython3",
   "version": "3.10.1"
  },
  "orig_nbformat": 4
 },
 "nbformat": 4,
 "nbformat_minor": 2
}
