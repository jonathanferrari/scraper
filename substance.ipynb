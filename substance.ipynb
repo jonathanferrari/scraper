{
 "cells": [
  {
   "cell_type": "markdown",
   "metadata": {
    "tags": []
   },
   "source": [
    "## Imports"
   ]
  },
  {
   "cell_type": "code",
   "execution_count": 1,
   "metadata": {
    "execution": {
     "iopub.execute_input": "2022-06-14T08:23:02.588214Z",
     "iopub.status.busy": "2022-06-14T08:23:02.586953Z",
     "iopub.status.idle": "2022-06-14T08:23:04.148021Z",
     "shell.execute_reply": "2022-06-14T08:23:04.146253Z",
     "shell.execute_reply.started": "2022-06-14T08:23:02.588085Z"
    },
    "tags": []
   },
   "outputs": [],
   "source": [
    "import pandas as pd, numpy as np\n",
    "import re, json, os, sys\n",
    "from utils import *;\n",
    "from IPython.display import *;"
   ]
  },
  {
   "cell_type": "markdown",
   "metadata": {
    "tags": []
   },
   "source": [
    "## Helpers"
   ]
  },
  {
   "cell_type": "code",
   "execution_count": 2,
   "metadata": {
    "execution": {
     "iopub.execute_input": "2022-06-14T08:23:04.151995Z",
     "iopub.status.busy": "2022-06-14T08:23:04.151394Z",
     "iopub.status.idle": "2022-06-14T08:23:04.165977Z",
     "shell.execute_reply": "2022-06-14T08:23:04.164955Z",
     "shell.execute_reply.started": "2022-06-14T08:23:04.151941Z"
    },
    "tags": []
   },
   "outputs": [],
   "source": [
    "def readDict(file):\n",
    "    with open(f\"dictionaries/{file}.json\") as infile:\n",
    "        subs = json.load(infile)\n",
    "    return intKey(subs)\n",
    "\n",
    "def sumDict(dicts):\n",
    "    full = {}\n",
    "    for dic in dicts:\n",
    "        full = full | dic\n",
    "    return full\n",
    "\n",
    "def writeDict(dct, file):\n",
    "    with open(f\"dictionaries/{file}.json\", \"w\") as outfile:\n",
    "        json.dump(dct, outfile, indent=4, sort_keys=True)\n",
    "    return dct\n",
    "\n",
    "def addDict(file=None, dct = None, keys = None, values = None):\n",
    "    if not dct: \n",
    "        dct = readDict(file)\n",
    "    if keys and values:\n",
    "        if type(keys) != list:\n",
    "            dct[keys] += values\n",
    "        else:\n",
    "            assert len(keys) == len(values), \\\n",
    "            f\"\"\"Keys and values must have same length:\n",
    "                Given Keys:{len(keys)} and Values:{len(values)}\"\"\"\n",
    "            for key, value in zip(keys, values):\n",
    "                dct[key] += value  \n",
    "    writeDict(dct, file)\n",
    "    \n",
    "def emptyRetrieved():\n",
    "    sk = readDict(\"substances\")\n",
    "    dct = {k : {} for k in sk.keys()}\n",
    "    return writeDict(dct, \"retrieved\")\n",
    "\n",
    "def intKey(dct):\n",
    "    if (type(dct) == dict) and (dct != {}):\n",
    "        try:\n",
    "            return {int(k) : intKey(v) for k, v in dct.items()}\n",
    "        except Exception as e:\n",
    "            return dct\n",
    "    else:\n",
    "        return dct"
   ]
  },
  {
   "cell_type": "code",
   "execution_count": 3,
   "metadata": {
    "execution": {
     "iopub.execute_input": "2022-06-14T08:23:04.206217Z",
     "iopub.status.busy": "2022-06-14T08:23:04.204494Z",
     "iopub.status.idle": "2022-06-14T08:23:04.224659Z",
     "shell.execute_reply": "2022-06-14T08:23:04.212924Z",
     "shell.execute_reply.started": "2022-06-14T08:23:04.206175Z"
    },
    "tags": []
   },
   "outputs": [],
   "source": [
    "def flatten(t):\n",
    "    return sum([[i] if type(i) != list else i for i in t], [])"
   ]
  },
  {
   "cell_type": "code",
   "execution_count": 4,
   "metadata": {
    "execution": {
     "iopub.execute_input": "2022-06-14T08:23:04.234116Z",
     "iopub.status.busy": "2022-06-14T08:23:04.231465Z",
     "iopub.status.idle": "2022-06-14T08:23:04.243399Z",
     "shell.execute_reply": "2022-06-14T08:23:04.242477Z",
     "shell.execute_reply.started": "2022-06-14T08:23:04.234045Z"
    },
    "tags": []
   },
   "outputs": [],
   "source": [
    "def getExperiences(subID, most=20, conditions=None):\n",
    "    add =  \"&a=experience_data\" + \\\n",
    "          f\"&substance_id={subID}&max={most}\" + \\\n",
    "           \"&format=xml\"\n",
    "    url = link + add \n",
    "    val_dict = {}\n",
    "    content = requests.get(url).text\n",
    "    exps = re.split(r\"<experience>|</experience>\", content)[1:-1]\n",
    "    while (\"\\n\\n\\n\" in exps):\n",
    "        exps.remove(\"\\n\\n\\n\")\n",
    "    dct = {}\n",
    "    for i in range(len(exps)):\n",
    "        exp = Experience(exps[i])\n",
    "        fits = True\n",
    "        if conditions:\n",
    "            for condition in conditions:\n",
    "                met = eval(condition)\n",
    "                fits = fits and met\n",
    "        if fits:\n",
    "            dct[exp.get(\"id\")] = exp\n",
    "    return dct\n",
    "\n",
    "def experienceList(subID, most=20, conditions = None):\n",
    "    dct = getExperiences(subID, most=most, conditions = conditions)\n",
    "    return list(dct.values())"
   ]
  },
  {
   "cell_type": "code",
   "execution_count": 5,
   "metadata": {
    "execution": {
     "iopub.execute_input": "2022-06-14T08:23:04.245595Z",
     "iopub.status.busy": "2022-06-14T08:23:04.245067Z",
     "iopub.status.idle": "2022-06-14T08:23:04.273473Z",
     "shell.execute_reply": "2022-06-14T08:23:04.270152Z",
     "shell.execute_reply.started": "2022-06-14T08:23:04.245554Z"
    },
    "tags": []
   },
   "outputs": [],
   "source": [
    "def retrieve(\n",
    "    subID : int,\n",
    "    most : int = 20, \n",
    "    conditions : list = None):\n",
    "    \"\"\"\n",
    "    Add substances to ``dictionaries/retrieved.json``\n",
    "    that meet all conditions in ``conditions``,\n",
    "    and update the file accordingly\n",
    "\n",
    "    Parameters\n",
    "    ----------\n",
    "    subID : int\n",
    "        The numerical ID of the substance to \n",
    "        get experiences from.\n",
    "    most : int = 20\n",
    "        The maximum amount of experiences to pull;\n",
    "        this is the number of all experiences, the \n",
    "        number which meet ``conditions`` may be much\n",
    "        lower.\n",
    "    conditions : list = None\n",
    "        Conditions that each experience must meet in\n",
    "        order to be part of the returned dictionary.\n",
    "\n",
    "    Returns\n",
    "    -------\n",
    "    Updated Dictionary : dict\n",
    "    \"\"\"\n",
    "    dct = getExperiences(subID, most, conditions)\n",
    "    retrieved = readDict(\"retrieved\")\n",
    "    working = retrieved[subID]\n",
    "    for k, v in dct.items():\n",
    "        if not (k in working.keys()):\n",
    "            working[k] = vars(v)\n",
    "    retrieved[subID] = working\n",
    "    writeDict(retrieved, \"retrieved\")"
   ]
  },
  {
   "cell_type": "markdown",
   "metadata": {
    "tags": []
   },
   "source": [
    "## Experience Class"
   ]
  },
  {
   "cell_type": "code",
   "execution_count": 6,
   "metadata": {
    "execution": {
     "iopub.execute_input": "2022-06-14T08:23:04.278265Z",
     "iopub.status.busy": "2022-06-14T08:23:04.277675Z",
     "iopub.status.idle": "2022-06-14T08:23:04.304693Z",
     "shell.execute_reply": "2022-06-14T08:23:04.302579Z",
     "shell.execute_reply.started": "2022-06-14T08:23:04.278223Z"
    },
    "tags": []
   },
   "outputs": [],
   "source": [
    "class Experience:\n",
    "    \n",
    "    def fromDict(dct : dict):\n",
    "        return Experience(**dct)\n",
    "    \n",
    "    def __repr__(self):\n",
    "        dct  = self.info\n",
    "        ss, ln = dct[\"substance-string\"].strip(), dct[\"list-number\"]\n",
    "        return f\"Experience: {{ Substance: {ss},  List-ID: {ln} }}\"\n",
    "        \n",
    "    def __str__(self):\n",
    "        return self.name\n",
    "        \n",
    "    def __init__(self, string : str, \n",
    "                 info = None, text = None, name = None):\n",
    "        self.string = string\n",
    "        self.readInfo()\n",
    "        for i, k in self.info.items():\n",
    "            if self.info.get(i) == \"\":\n",
    "                self.info[i] = None\n",
    "        self.makeName()\n",
    "    \n",
    "    def get(self, key : str):\n",
    "        if key in (inf := self.info):\n",
    "            return inf.get(key)\n",
    "        else:\n",
    "            print(f\"{key} is not a valid key.\",\n",
    "                  \"Please select one of the following: \\n\")\n",
    "            for key in inf.keys():\n",
    "                if key == \"text\":\n",
    "                    print(key)\n",
    "                else:\n",
    "                    print(key, end = \",\" + \" \"*(30 - len(key)) + \"\\t\")\n",
    "                    \n",
    "    def isPure(self):\n",
    "        tpe = (type(self.get(\"substance-id-list\")) == int)\n",
    "        nme = self.get(\"substance-string\")\n",
    "        mul = not ((\",\" in nme) or (\"&\" in nme))\n",
    "        return tpe and mul\n",
    "    \n",
    "    def isFirst(self):\n",
    "        return 2 in self.get(\"category-id-list\")\n",
    "        \n",
    "    def readInfo(self):\n",
    "        vallst = re.findall(r\"<(.*)>(.*)</.*>\", self.string)\n",
    "        dct = dict(vallst)\n",
    "        for key in dct.keys():\n",
    "            try:\n",
    "                dct[key] = eval(dct[key])\n",
    "            except Exception as e:\n",
    "                dct[key] = dct[key]\n",
    "        self.info = dct\n",
    "        txt = re.split(r\"<experience-text>|</experience-text>\", self.string)[1]\n",
    "        self.info['text'] = txt\n",
    "        self.text = txt\n",
    "        self.info[\"list-number\"] = self.info[\"list-number\"] - 1\n",
    "        \n",
    "    def makeName(self):\n",
    "        dct = self.info\n",
    "        name = dct[\"substance-string\"].strip() + str(dct[\"list-number\"])\n",
    "        self.name = name.lower().replace(\" \", \"_\").replace(\"&\", \"n\")\n",
    "        \n",
    "    def listInfo(self):\n",
    "        return list(self.info.keys())\n",
    "\n",
    "    def toJSON(self):\n",
    "        return json.dumps(self, default=lambda o: vars(o), \n",
    "            sort_keys=True, indent=4)"
   ]
  },
  {
   "cell_type": "markdown",
   "metadata": {},
   "source": [
    "## Variables"
   ]
  },
  {
   "cell_type": "markdown",
   "metadata": {
    "tags": []
   },
   "source": [
    "### link"
   ]
  },
  {
   "cell_type": "code",
   "execution_count": 7,
   "metadata": {
    "execution": {
     "iopub.execute_input": "2022-06-14T08:23:04.306617Z",
     "iopub.status.busy": "2022-06-14T08:23:04.306253Z",
     "iopub.status.idle": "2022-06-14T08:23:04.312949Z",
     "shell.execute_reply": "2022-06-14T08:23:04.311032Z",
     "shell.execute_reply.started": "2022-06-14T08:23:04.306585Z"
    },
    "tags": []
   },
   "outputs": [],
   "source": [
    "base_url = \"https://erowid.org/experiences/research/\"\n",
    "api_code = \"exp_api.php?api_code=berkeley_bcsp_tyrone_2022\"\n",
    "link = base_url + api_code"
   ]
  },
  {
   "cell_type": "markdown",
   "metadata": {},
   "source": [
    "## Tables"
   ]
  },
  {
   "cell_type": "code",
   "execution_count": 8,
   "metadata": {
    "execution": {
     "iopub.execute_input": "2022-06-14T08:23:04.318086Z",
     "iopub.status.busy": "2022-06-14T08:23:04.317619Z",
     "iopub.status.idle": "2022-06-14T08:23:04.409606Z",
     "shell.execute_reply": "2022-06-14T08:23:04.408322Z",
     "shell.execute_reply.started": "2022-06-14T08:23:04.318049Z"
    },
    "tags": []
   },
   "outputs": [],
   "source": [
    "substanceTable = pd.read_csv(\"csv/substance.csv\")"
   ]
  },
  {
   "cell_type": "markdown",
   "metadata": {},
   "source": [
    "### dictionaries"
   ]
  },
  {
   "cell_type": "code",
   "execution_count": 11,
   "metadata": {
    "execution": {
     "iopub.execute_input": "2022-06-14T08:23:13.378479Z",
     "iopub.status.busy": "2022-06-14T08:23:13.377821Z",
     "iopub.status.idle": "2022-06-14T08:23:13.393522Z",
     "shell.execute_reply": "2022-06-14T08:23:13.392221Z",
     "shell.execute_reply.started": "2022-06-14T08:23:13.378434Z"
    },
    "tags": []
   },
   "outputs": [],
   "source": [
    "to_collect = {\"Cannabis\" : [1], \n",
    "               \"LSD\" : [2], \n",
    "               \"MDMA\" : [3], \n",
    "               \"Ketamine\" : [31],\n",
    "               \"Psilocybin/Mushrooms\" : [39, 66, 239], \n",
    "               \"DMT\" : [18], \n",
    "               \"Mescaline/Cacti/Children\" : [36, 809, 543, 826]}"
   ]
  },
  {
   "cell_type": "code",
   "execution_count": 16,
   "metadata": {
    "execution": {
     "iopub.execute_input": "2022-06-14T08:33:07.727309Z",
     "iopub.status.busy": "2022-06-14T08:33:07.725952Z",
     "iopub.status.idle": "2022-06-14T08:33:09.636450Z",
     "shell.execute_reply": "2022-06-14T08:33:09.635669Z",
     "shell.execute_reply.started": "2022-06-14T08:33:07.727230Z"
    },
    "tags": []
   },
   "outputs": [],
   "source": [
    "collected, retrieved = readDict(\"collected\"), readDict(\"retrieved\")\n",
    "retrieve(31, int(10e8), [\"exp.isFirst()\", \"exp.isPure()\"])\n",
    "retrieved = readDict(\"retrieved\")"
   ]
  },
  {
   "cell_type": "code",
   "execution_count": 17,
   "metadata": {
    "execution": {
     "iopub.execute_input": "2022-06-14T08:33:11.803796Z",
     "iopub.status.busy": "2022-06-14T08:33:11.803360Z",
     "iopub.status.idle": "2022-06-14T08:33:11.836213Z",
     "shell.execute_reply": "2022-06-14T08:33:11.834778Z",
     "shell.execute_reply.started": "2022-06-14T08:33:11.803749Z"
    },
    "tags": []
   },
   "outputs": [],
   "source": [
    "collected = {k : sumDict([retrieved[i] for i in v]) \n",
    "             for k, v in to_collect.items()}"
   ]
  },
  {
   "cell_type": "code",
   "execution_count": 18,
   "metadata": {
    "execution": {
     "iopub.execute_input": "2022-06-14T08:33:16.833286Z",
     "iopub.status.busy": "2022-06-14T08:33:16.832786Z",
     "iopub.status.idle": "2022-06-14T08:33:17.457640Z",
     "shell.execute_reply": "2022-06-14T08:33:17.456621Z",
     "shell.execute_reply.started": "2022-06-14T08:33:16.833253Z"
    },
    "tags": []
   },
   "outputs": [],
   "source": [
    "writeDict(collected, \"collected\");"
   ]
  },
  {
   "cell_type": "markdown",
   "metadata": {},
   "source": [
    "## Pre-Processing"
   ]
  },
  {
   "cell_type": "markdown",
   "metadata": {},
   "source": [
    "https://erowid.org/experiences/research/exp_api.php?api_code=berkeley_bcsp_tyrone_2022"
   ]
  }
 ],
 "metadata": {
  "interpreter": {
   "hash": "aee8b7b246df8f9039afb4144a1f6fd8d2ca17a180786b69acc140d282b71a49"
  },
  "kernelspec": {
   "display_name": "Python 3 (ipykernel)",
   "language": "python",
   "name": "python3"
  },
  "language_info": {
   "codemirror_mode": {
    "name": "ipython",
    "version": 3
   },
   "file_extension": ".py",
   "mimetype": "text/x-python",
   "name": "python",
   "nbconvert_exporter": "python",
   "pygments_lexer": "ipython3",
   "version": "3.10.1"
  },
  "widgets": {
   "application/vnd.jupyter.widget-state+json": {
    "state": {},
    "version_major": 2,
    "version_minor": 0
   }
  }
 },
 "nbformat": 4,
 "nbformat_minor": 4
}
