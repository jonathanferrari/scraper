{
 "cells": [
  {
   "cell_type": "code",
   "execution_count": 30,
   "metadata": {
    "execution": {
     "iopub.execute_input": "2022-06-14T08:23:02.588214Z",
     "iopub.status.busy": "2022-06-14T08:23:02.586953Z",
     "iopub.status.idle": "2022-06-14T08:23:04.148021Z",
     "shell.execute_reply": "2022-06-14T08:23:04.146253Z",
     "shell.execute_reply.started": "2022-06-14T08:23:02.588085Z"
    },
    "tags": []
   },
   "outputs": [],
   "source": [
    "import pandas as pd, numpy as np, json, re, os\n",
    "from utils import *\n",
    "tbs = {name :pd.read_csv(f\"csv/data/{name}.csv\").iloc[:, [0, -1]] for name in [\"first\", \"bad\", \"general\"]}\n",
    "subs = list(to_collect.keys())\n",
    "full = {k : {\"Total\": v.describe().to_dict()} | {sub : v.query(f\"category == '{sub}'\").describe().to_dict() for sub in subs} for k, v in tbs.items()}\n",
    "data = []\n",
    "for table, sub in full.items():\n",
    "    for name, stats in sub.items():\n",
    "        rec = {\"table\" : table, \"substance\" : name}\n",
    "        record = rec | stats[\"word count\"]\n",
    "        data += [record] \n",
    "stats = pd.DataFrame(data)"
   ]
  }
 ],
 "metadata": {
  "interpreter": {
   "hash": "aee8b7b246df8f9039afb4144a1f6fd8d2ca17a180786b69acc140d282b71a49"
  },
  "kernelspec": {
   "display_name": "Python 3 (ipykernel)",
   "language": "python",
   "name": "python3"
  },
  "language_info": {
   "codemirror_mode": {
    "name": "ipython",
    "version": 3
   },
   "file_extension": ".py",
   "mimetype": "text/x-python",
   "name": "python",
   "nbconvert_exporter": "python",
   "pygments_lexer": "ipython3",
   "version": "3.10.1"
  },
  "widgets": {
   "application/vnd.jupyter.widget-state+json": {
    "state": {},
    "version_major": 2,
    "version_minor": 0
   }
  }
 },
 "nbformat": 4,
 "nbformat_minor": 4
}
