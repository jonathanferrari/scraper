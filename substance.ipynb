{
 "cells": [
  {
   "cell_type": "markdown",
   "metadata": {
    "jp-MarkdownHeadingCollapsed": true,
    "tags": []
   },
   "source": [
    "## Imports"
   ]
  },
  {
   "cell_type": "code",
   "execution_count": 50,
   "metadata": {
    "execution": {
     "iopub.execute_input": "2022-05-23T23:16:50.775625Z",
     "iopub.status.busy": "2022-05-23T23:16:50.775274Z",
     "iopub.status.idle": "2022-05-23T23:16:50.784710Z",
     "shell.execute_reply": "2022-05-23T23:16:50.782556Z",
     "shell.execute_reply.started": "2022-05-23T23:16:50.775596Z"
    },
    "tags": []
   },
   "outputs": [],
   "source": [
    "import pandas as pd\n",
    "import numpy as np\n",
    "from utils import *;\n",
    "from queryAnswer import *;\n",
    "from IPython.display import *;\n",
    "import re\n",
    "import json\n",
    "import os"
   ]
  },
  {
   "cell_type": "markdown",
   "metadata": {
    "jp-MarkdownHeadingCollapsed": true,
    "tags": []
   },
   "source": [
    "## Helpers"
   ]
  },
  {
   "cell_type": "code",
   "execution_count": 219,
   "metadata": {
    "execution": {
     "iopub.execute_input": "2022-05-24T01:30:29.399813Z",
     "iopub.status.busy": "2022-05-24T01:30:29.399554Z",
     "iopub.status.idle": "2022-05-24T01:30:29.412128Z",
     "shell.execute_reply": "2022-05-24T01:30:29.407045Z",
     "shell.execute_reply.started": "2022-05-24T01:30:29.399791Z"
    },
    "tags": []
   },
   "outputs": [],
   "source": [
    "def readDict(file):\n",
    "    with open(f\"dictionaries/{file}.json\") as infile:\n",
    "        subs = json.load(infile)\n",
    "    if subs:\n",
    "        subs = {int(k) : v for k, v in subs.items()}\n",
    "    return subs\n",
    "def writeDict(dct, file):\n",
    "    with open(f\"dictionaries/{file}.json\", \"w\") as outfile:\n",
    "        json.dump(dct, outfile, indent=4, sort_keys=True)\n",
    "    return dct\n",
    "def addDict(file=None, dct = None, keys = None, values = None):\n",
    "    if not dct: \n",
    "        dct = readDict(file)\n",
    "    if keys and values:\n",
    "        if type(keys) != list:\n",
    "            dct[keys] += values\n",
    "        else:\n",
    "            assert len(keys) == len(values), \\\n",
    "            f\"\"\"Keys and values must have same length:\n",
    "                Given Keys:{len(keys)} and Values:{len(values)}\"\"\"\n",
    "            for key, value in zip(keys, values):\n",
    "                dct[key] += value  \n",
    "    writeDict(dct, file)\n",
    "def emptyRetrieved():\n",
    "    sk = readDict(\"substances\")\n",
    "    dct = {k : {} for k in sk.keys()}\n",
    "    writeDict(dct, \"retrieved\")"
   ]
  },
  {
   "cell_type": "code",
   "execution_count": 213,
   "metadata": {
    "execution": {
     "iopub.execute_input": "2022-05-24T01:23:46.553796Z",
     "iopub.status.busy": "2022-05-24T01:23:46.553375Z",
     "iopub.status.idle": "2022-05-24T01:23:46.562513Z",
     "shell.execute_reply": "2022-05-24T01:23:46.560957Z",
     "shell.execute_reply.started": "2022-05-24T01:23:46.553771Z"
    },
    "tags": []
   },
   "outputs": [],
   "source": [
    "def experienceList(subID, most=20, conditions = None):\n",
    "    dct = getExperiences(subID, most=most, conditions = conditions)\n",
    "    return list(dct.values())"
   ]
  },
  {
   "cell_type": "code",
   "execution_count": 224,
   "metadata": {
    "execution": {
     "iopub.execute_input": "2022-05-24T01:35:57.690455Z",
     "iopub.status.busy": "2022-05-24T01:35:57.690009Z",
     "iopub.status.idle": "2022-05-24T01:35:57.712390Z",
     "shell.execute_reply": "2022-05-24T01:35:57.710631Z",
     "shell.execute_reply.started": "2022-05-24T01:35:57.690424Z"
    },
    "tags": []
   },
   "outputs": [],
   "source": [
    "def getExperiences(subID, most=20, conditions=None):\n",
    "    add =  \"&a=experience_data\" + \\\n",
    "          f\"&substance_id={subID}&max={most}\" + \\\n",
    "           \"&format=xml\"\n",
    "    url = link + add \n",
    "    val_dict = {}\n",
    "    content = requests.get(url).text\n",
    "    exps = re.split(r\"<experience>|</experience>\", content)[:-1]\n",
    "    info, exps = exps[0], exps[1:]\n",
    "    ids = re.findall(\"<substance-id-list>(.*)</substance-id-list>\", info)[0]\n",
    "    ids = list(eval(ids))\n",
    "    while (\"\\n\\n\\n\" in exps):\n",
    "        exps.remove(\"\\n\\n\\n\")\n",
    "    dct = {}\n",
    "    for i in range(len(exps)):\n",
    "        exp = Experience(exps[i])\n",
    "        fits = True\n",
    "        if conditions:\n",
    "            for condition in conditions:\n",
    "                met = eval(condition)\n",
    "                fits = fits and met\n",
    "        if fits:\n",
    "            dct[exp.get(\"id\")] = exp\n",
    "    return dct"
   ]
  },
  {
   "cell_type": "code",
   "execution_count": 225,
   "metadata": {
    "execution": {
     "iopub.execute_input": "2022-05-24T01:38:11.235831Z",
     "iopub.status.busy": "2022-05-24T01:38:11.235295Z",
     "iopub.status.idle": "2022-05-24T01:38:11.251534Z",
     "shell.execute_reply": "2022-05-24T01:38:11.250258Z",
     "shell.execute_reply.started": "2022-05-24T01:38:11.235800Z"
    },
    "tags": []
   },
   "outputs": [],
   "source": [
    "def retrieve(\n",
    "    subID : int,\n",
    "    most : int = 20, \n",
    "    conditions : list = None):\n",
    "    \"\"\"\n",
    "    Add substances to ``dictionaries/retrieved.json``\n",
    "    that meet all conditions in ``conditions``,\n",
    "    and update the file accordingly\n",
    "\n",
    "    Parameters\n",
    "    ----------\n",
    "    subID : int\n",
    "        The numerical ID of the substance to \n",
    "        get experiences from.\n",
    "    most : int = 20\n",
    "        The maximum amount of experiences to pull;\n",
    "        this is the number of all experiences, the \n",
    "        number which meet ``conditions`` may be much\n",
    "        lower.\n",
    "    conditions : list = None\n",
    "        Conditions that each experience must meet in\n",
    "        order to be part of the returned dictionary.\n",
    "\n",
    "    Returns\n",
    "    -------\n",
    "    Updated Dictionary : dict\n",
    "    \"\"\"\n",
    "    dct = getExperiences(subID, most, conditions)\n",
    "    retrieved = readDict(\"retrieved\")\n",
    "    working = retrieved[subID]\n",
    "    for k, v in dct.items():\n",
    "        working[k] = vars(v)\n",
    "    retrieved[subID] = working\n",
    "    writeDict(retrieved, \"retrieved\")"
   ]
  },
  {
   "cell_type": "markdown",
   "metadata": {
    "jp-MarkdownHeadingCollapsed": true,
    "tags": []
   },
   "source": [
    "## Experience Class"
   ]
  },
  {
   "cell_type": "code",
   "execution_count": 211,
   "metadata": {
    "execution": {
     "iopub.execute_input": "2022-05-24T01:21:58.335173Z",
     "iopub.status.busy": "2022-05-24T01:21:58.334857Z",
     "iopub.status.idle": "2022-05-24T01:21:58.358205Z",
     "shell.execute_reply": "2022-05-24T01:21:58.355954Z",
     "shell.execute_reply.started": "2022-05-24T01:21:58.335148Z"
    },
    "tags": []
   },
   "outputs": [],
   "source": [
    "class Experience:\n",
    "    \n",
    "    def fromDict(dct : dict):\n",
    "        return Experience(**dct)\n",
    "    \n",
    "    def __repr__(self):\n",
    "        dct  = self.info\n",
    "        ss, ln = dct[\"substance-string\"].strip(), dct[\"list-number\"]\n",
    "        return f\"Experience: {{ Substance: {ss},  List-ID: {ln} }}\"\n",
    "        \n",
    "    def __str__(self):\n",
    "        return self.name\n",
    "        \n",
    "    def __init__(self, string : str, \n",
    "                 info = None, text = None, name = None):\n",
    "        self.string = string\n",
    "        self.readInfo()\n",
    "        for i, k in self.info.items():\n",
    "            if self.info.get(i) == \"\":\n",
    "                self.info[i] = None\n",
    "        self.makeName()\n",
    "    \n",
    "    def get(self, key : str):\n",
    "        if key in (inf := self.info):\n",
    "            return inf.get(key)\n",
    "        else:\n",
    "            print(f\"{key} is not a valid key.\",\n",
    "                  \"Please select one of the following: \\n\")\n",
    "            for key in inf.keys():\n",
    "                if key == \"text\":\n",
    "                    print(key)\n",
    "                else:\n",
    "                    print(key, end = \",\" + \" \"*(30 - len(key)) + \"\\t\")\n",
    "                    \n",
    "    def isPure(self):\n",
    "        return type(self.get(\"substance-id-list\")) == int\n",
    "    \n",
    "    def isFirst(self):\n",
    "        return 2 in self.get(\"category-id-list\")\n",
    "        \n",
    "    def readInfo(self):\n",
    "        vallst = re.findall(r\"<(.*)>(.*)</.*>\", self.string)\n",
    "        dct = dict(vallst)\n",
    "        for key in dct.keys():\n",
    "            try:\n",
    "                dct[key] = eval(dct[key])\n",
    "            except Exception as e:\n",
    "                dct[key] = dct[key]\n",
    "        self.info = dct\n",
    "        txt = re.split(r\"<experience-text>|</experience-text>\", self.string)[1]\n",
    "        self.info['text'] = txt\n",
    "        self.text = txt\n",
    "        self.info[\"list-number\"] = self.info[\"list-number\"] - 1\n",
    "        \n",
    "    def makeName(self):\n",
    "        dct = self.info\n",
    "        name = dct[\"substance-string\"].strip() + str(dct[\"list-number\"])\n",
    "        self.name = name.lower().replace(\" \", \"_\").replace(\"&\", \"n\")\n",
    "        \n",
    "    def listInfo(self):\n",
    "        return list(self.info.keys())\n",
    "\n",
    "    def toJSON(self):\n",
    "        return json.dumps(self, default=lambda o: vars(o), \n",
    "            sort_keys=True, indent=4)"
   ]
  },
  {
   "cell_type": "markdown",
   "metadata": {},
   "source": [
    "## Variables"
   ]
  },
  {
   "cell_type": "markdown",
   "metadata": {
    "jp-MarkdownHeadingCollapsed": true,
    "tags": []
   },
   "source": [
    "### link"
   ]
  },
  {
   "cell_type": "code",
   "execution_count": 197,
   "metadata": {
    "execution": {
     "iopub.execute_input": "2022-05-24T01:13:44.729607Z",
     "iopub.status.busy": "2022-05-24T01:13:44.729278Z",
     "iopub.status.idle": "2022-05-24T01:13:44.736339Z",
     "shell.execute_reply": "2022-05-24T01:13:44.733886Z",
     "shell.execute_reply.started": "2022-05-24T01:13:44.729577Z"
    },
    "tags": []
   },
   "outputs": [],
   "source": [
    "base_url = \"https://erowid.org/experiences/research/\"\n",
    "api_code = \"exp_api.php?api_code=berkeley_bcsp_tyrone_2022\"\n",
    "link = base_url + api_code"
   ]
  },
  {
   "cell_type": "markdown",
   "metadata": {},
   "source": [
    "### dictionaries"
   ]
  },
  {
   "cell_type": "code",
   "execution_count": 222,
   "metadata": {
    "execution": {
     "iopub.execute_input": "2022-05-24T01:31:30.651781Z",
     "iopub.status.busy": "2022-05-24T01:31:30.651143Z",
     "iopub.status.idle": "2022-05-24T01:31:30.690029Z",
     "shell.execute_reply": "2022-05-24T01:31:30.684693Z",
     "shell.execute_reply.started": "2022-05-24T01:31:30.651731Z"
    },
    "tags": []
   },
   "outputs": [],
   "source": [
    "sk = readDict(\"substances\")"
   ]
  },
  {
   "cell_type": "code",
   "execution_count": 226,
   "metadata": {
    "execution": {
     "iopub.execute_input": "2022-05-24T01:38:28.259630Z",
     "iopub.status.busy": "2022-05-24T01:38:28.259116Z",
     "iopub.status.idle": "2022-05-24T01:38:35.044524Z",
     "shell.execute_reply": "2022-05-24T01:38:35.043807Z",
     "shell.execute_reply.started": "2022-05-24T01:38:28.259593Z"
    },
    "tags": []
   },
   "outputs": [],
   "source": [
    "retrieve(1)"
   ]
  },
  {
   "cell_type": "markdown",
   "metadata": {},
   "source": [
    "## Pre-Processing"
   ]
  },
  {
   "cell_type": "markdown",
   "metadata": {},
   "source": [
    "https://erowid.org/experiences/research/exp_api.php?api_code=berkeley_bcsp_tyrone_2022"
   ]
  },
  {
   "cell_type": "code",
   "execution_count": null,
   "metadata": {},
   "outputs": [],
   "source": []
  }
 ],
 "metadata": {
  "interpreter": {
   "hash": "aee8b7b246df8f9039afb4144a1f6fd8d2ca17a180786b69acc140d282b71a49"
  },
  "kernelspec": {
   "display_name": "Python 3 (ipykernel)",
   "language": "python",
   "name": "python3"
  },
  "language_info": {
   "codemirror_mode": {
    "name": "ipython",
    "version": 3
   },
   "file_extension": ".py",
   "mimetype": "text/x-python",
   "name": "python",
   "nbconvert_exporter": "python",
   "pygments_lexer": "ipython3",
   "version": "3.10.1"
  },
  "widgets": {
   "application/vnd.jupyter.widget-state+json": {
    "state": {
     "1f7cc76eb29b473faa52b83a38019b24": {
      "model_module": "@jupyter-widgets/base",
      "model_module_version": "1.2.0",
      "model_name": "LayoutModel",
      "state": {}
     },
     "21cbfc3a50384a479735220c1d6a1907": {
      "model_module": "@jupyter-widgets/controls",
      "model_module_version": "1.5.0",
      "model_name": "DescriptionStyleModel",
      "state": {
       "description_width": ""
      }
     },
     "2d8afe80563f47849550cfc701bfaaca": {
      "model_module": "@jupyter-widgets/controls",
      "model_module_version": "1.5.0",
      "model_name": "TextareaModel",
      "state": {
       "continuous_update": false,
       "description": "Question:",
       "layout": "IPY_MODEL_5eddf8145114423f8a4b52295db1202a",
       "placeholder": "Ask Gary a question",
       "style": "IPY_MODEL_21cbfc3a50384a479735220c1d6a1907",
       "value": "How tall is Mount Everest?"
      }
     },
     "315f05b686bc42bd83dcda08fbeaadc3": {
      "model_module": "@jupyter-widgets/controls",
      "model_module_version": "1.5.0",
      "model_name": "VBoxModel",
      "state": {
       "_dom_classes": [
        "widget-interact"
       ],
       "children": [
        "IPY_MODEL_2d8afe80563f47849550cfc701bfaaca",
        "IPY_MODEL_bda1e5bfbfed4e73b044187ac4f800a7"
       ],
       "layout": "IPY_MODEL_d59d093d771246738e831e7dca9a0f5e"
      }
     },
     "5eddf8145114423f8a4b52295db1202a": {
      "model_module": "@jupyter-widgets/base",
      "model_module_version": "1.2.0",
      "model_name": "LayoutModel",
      "state": {}
     },
     "bda1e5bfbfed4e73b044187ac4f800a7": {
      "model_module": "@jupyter-widgets/output",
      "model_module_version": "1.0.0",
      "model_name": "OutputModel",
      "state": {
       "layout": "IPY_MODEL_1f7cc76eb29b473faa52b83a38019b24",
       "outputs": [
        {
         "data": {
          "text/markdown": "Mount Everest is 29,029 feet tall.",
          "text/plain": "<IPython.core.display.Markdown object>"
         },
         "metadata": {},
         "output_type": "display_data"
        }
       ]
      }
     },
     "d59d093d771246738e831e7dca9a0f5e": {
      "model_module": "@jupyter-widgets/base",
      "model_module_version": "1.2.0",
      "model_name": "LayoutModel",
      "state": {}
     }
    },
    "version_major": 2,
    "version_minor": 0
   }
  }
 },
 "nbformat": 4,
 "nbformat_minor": 4
}
