{
 "cells": [
  {
   "cell_type": "markdown",
   "metadata": {},
   "source": [
    "## Imports"
   ]
  },
  {
   "cell_type": "code",
   "execution_count": 50,
   "metadata": {
    "execution": {
     "iopub.execute_input": "2022-05-23T23:16:50.775625Z",
     "iopub.status.busy": "2022-05-23T23:16:50.775274Z",
     "iopub.status.idle": "2022-05-23T23:16:50.784710Z",
     "shell.execute_reply": "2022-05-23T23:16:50.782556Z",
     "shell.execute_reply.started": "2022-05-23T23:16:50.775596Z"
    },
    "tags": []
   },
   "outputs": [],
   "source": [
    "import pandas as pd\n",
    "import numpy as np\n",
    "from utils import *;\n",
    "from queryAnswer import *;\n",
    "from IPython.display import *;\n",
    "import re\n",
    "import json\n",
    "import os"
   ]
  },
  {
   "cell_type": "markdown",
   "metadata": {},
   "source": [
    "## Helpers"
   ]
  },
  {
   "cell_type": "code",
   "execution_count": 138,
   "metadata": {
    "execution": {
     "iopub.execute_input": "2022-05-24T00:26:00.129436Z",
     "iopub.status.busy": "2022-05-24T00:26:00.128791Z",
     "iopub.status.idle": "2022-05-24T00:26:00.160185Z",
     "shell.execute_reply": "2022-05-24T00:26:00.158970Z",
     "shell.execute_reply.started": "2022-05-24T00:26:00.129392Z"
    },
    "tags": []
   },
   "outputs": [],
   "source": [
    "def readDict(file):\n",
    "    with open(f\"dictionaries/{file}.json\") as infile:\n",
    "        subs = json.load(infile)\n",
    "    subs = {int(k) : v for k, v in subs.items()}\n",
    "    return subs\n",
    "def writeDict(dct, file):\n",
    "    with open(f\"dictionaries/{file}.json\", \"w\") as outfile:\n",
    "        json.dump(dct, outfile, indent=4, sort_keys=True)\n",
    "def addDict(file=None, dct = None, keys = None, values = None):\n",
    "    if not dct: \n",
    "        dct = readDict(file)\n",
    "    if keys and values:\n",
    "        if type(keys) != list:\n",
    "            dct[keys] += values\n",
    "        else:\n",
    "            assert len(keys) == len(values), \\\n",
    "            f\"\"\"Keys and values must have same length:\n",
    "                Given Keys:{len(keys)} and Values:{len(values)}\"\"\"\n",
    "            for key, value in zip(keys, values):\n",
    "                dct[key] += value  \n",
    "    writeDict(dct, file)"
   ]
  },
  {
   "cell_type": "markdown",
   "metadata": {},
   "source": [
    "## Variables"
   ]
  },
  {
   "cell_type": "markdown",
   "metadata": {},
   "source": [
    "### link"
   ]
  },
  {
   "cell_type": "code",
   "execution_count": 139,
   "metadata": {
    "execution": {
     "iopub.execute_input": "2022-05-24T00:26:01.214752Z",
     "iopub.status.busy": "2022-05-24T00:26:01.214160Z",
     "iopub.status.idle": "2022-05-24T00:26:01.232724Z",
     "shell.execute_reply": "2022-05-24T00:26:01.231856Z",
     "shell.execute_reply.started": "2022-05-24T00:26:01.214715Z"
    },
    "tags": []
   },
   "outputs": [],
   "source": [
    "base_url = \"https://erowid.org/experiences/research/\"\n",
    "api_code = \"exp_api.php?api_code=berkeley_bcsp_tyrone_2022\"\n",
    "link = base_url + api_code"
   ]
  },
  {
   "cell_type": "code",
   "execution_count": null,
   "metadata": {},
   "outputs": [],
   "source": [
    "def retrieve(subID, most=20, conditions = None):\n",
    "    retrieved = readDict(\"retrieved\")\n",
    "    retrieved[subID] += []\n",
    "    retrieved[subID] += lst\n",
    "    "
   ]
  },
  {
   "cell_type": "markdown",
   "metadata": {},
   "source": [
    "### dictionaries"
   ]
  },
  {
   "cell_type": "code",
   "execution_count": 184,
   "metadata": {
    "execution": {
     "iopub.execute_input": "2022-05-24T00:56:30.575043Z",
     "iopub.status.busy": "2022-05-24T00:56:30.574671Z",
     "iopub.status.idle": "2022-05-24T00:56:30.589591Z",
     "shell.execute_reply": "2022-05-24T00:56:30.587830Z",
     "shell.execute_reply.started": "2022-05-24T00:56:30.575007Z"
    },
    "tags": []
   },
   "outputs": [],
   "source": [
    "substance_key = readDict(\"substances\")\n",
    "retrieved = readDict(\"retrieved\")"
   ]
  },
  {
   "cell_type": "code",
   "execution_count": 185,
   "metadata": {
    "execution": {
     "iopub.execute_input": "2022-05-24T00:56:31.681759Z",
     "iopub.status.busy": "2022-05-24T00:56:31.681517Z",
     "iopub.status.idle": "2022-05-24T00:56:36.040269Z",
     "shell.execute_reply": "2022-05-24T00:56:36.039336Z",
     "shell.execute_reply.started": "2022-05-24T00:56:31.681738Z"
    },
    "tags": []
   },
   "outputs": [],
   "source": [
    "exp_list(1, most = 1000, conditions = [\"exp.isFirst()\", \"exp.isPure()\"]);"
   ]
  },
  {
   "cell_type": "code",
   "execution_count": 183,
   "metadata": {
    "execution": {
     "iopub.execute_input": "2022-05-24T00:56:26.258909Z",
     "iopub.status.busy": "2022-05-24T00:56:26.257546Z",
     "iopub.status.idle": "2022-05-24T00:56:26.263775Z",
     "shell.execute_reply": "2022-05-24T00:56:26.262604Z",
     "shell.execute_reply.started": "2022-05-24T00:56:26.258843Z"
    },
    "tags": []
   },
   "outputs": [],
   "source": [
    "def exp_list(subID, most=20, conditions = None):\n",
    "    dct = getExp(subID, most=most, conditions = conditions)\n",
    "    return list(dct.values())"
   ]
  },
  {
   "cell_type": "code",
   "execution_count": 181,
   "metadata": {
    "execution": {
     "iopub.execute_input": "2022-05-24T00:56:21.471165Z",
     "iopub.status.busy": "2022-05-24T00:56:21.470614Z",
     "iopub.status.idle": "2022-05-24T00:56:21.483512Z",
     "shell.execute_reply": "2022-05-24T00:56:21.482502Z",
     "shell.execute_reply.started": "2022-05-24T00:56:21.471124Z"
    },
    "tags": []
   },
   "outputs": [],
   "source": [
    "def getExp(subID, most=20, conditions=None):\n",
    "    add =  \"&a=experience_data\" + \\\n",
    "          f\"&substance_id={subID}&max={most}\" + \\\n",
    "           \"&format=xml\"\n",
    "    url = link + add \n",
    "    val_dict = {}\n",
    "    content = requests.get(url).text\n",
    "    exps = re.split(r\"<experience>|</experience>\", content)[:-1]\n",
    "    info, exps = exps[0], exps[1:]\n",
    "    ids = re.findall(\"<substance-id-list>(.*)</substance-id-list>\", info)[0]\n",
    "    ids = list(eval(ids))\n",
    "    experiences = readDict(\"experiences\")\n",
    "    while (\"\\n\\n\\n\" in exps):\n",
    "        exps.remove(\"\\n\\n\\n\")\n",
    "    dct = {}\n",
    "    for i in range(len(exps)):\n",
    "        exp = Experience(exps[i])\n",
    "        experiences[exp.get(\"id\")] = vars(exp)\n",
    "        fits = True\n",
    "        for condition in conditions:\n",
    "            met = eval(condition)\n",
    "            fits = fits and met\n",
    "        if fits:\n",
    "            dct[exp.name] = exp\n",
    "    writeDict(experiences, \"experiences\")\n",
    "    return dct"
   ]
  },
  {
   "cell_type": "markdown",
   "metadata": {},
   "source": [
    "## Pre-Processing"
   ]
  },
  {
   "cell_type": "code",
   "execution_count": 182,
   "metadata": {
    "execution": {
     "iopub.execute_input": "2022-05-24T00:56:22.996935Z",
     "iopub.status.busy": "2022-05-24T00:56:22.996345Z",
     "iopub.status.idle": "2022-05-24T00:56:23.021569Z",
     "shell.execute_reply": "2022-05-24T00:56:23.019027Z",
     "shell.execute_reply.started": "2022-05-24T00:56:22.996904Z"
    },
    "tags": []
   },
   "outputs": [],
   "source": [
    "class Experience:\n",
    "    \n",
    "    def fromDict(dct : dict):\n",
    "        return Experience(**dct)\n",
    "    \n",
    "    def __repr__(self):\n",
    "        dct  = self.info\n",
    "        ss, ln = dct[\"substance-string\"].strip(), dct[\"list-number\"]\n",
    "        return f\"Experience: {{ Substance: {ss},  List-ID: {ln} }}\"\n",
    "        \n",
    "    def __str__(self):\n",
    "        return self.name\n",
    "        \n",
    "    def __init__(self, string : str, \n",
    "                 info = None, text = None, name = None):\n",
    "        self.string = string\n",
    "        self.readInfo()\n",
    "        for i, k in self.info.items():\n",
    "            if self.info.get(i) == \"\":\n",
    "                self.info[i] = None\n",
    "        self.makeName()\n",
    "    \n",
    "    def get(self, key : str):\n",
    "        if key in (inf := self.info):\n",
    "            return inf.get(key)\n",
    "        else:\n",
    "            print(f\"{key} is not a valid key.\",\n",
    "                  \"Please select one of the following: \\n\")\n",
    "            for key in inf.keys():\n",
    "                if key == \"text\":\n",
    "                    print(key)\n",
    "                else:\n",
    "                    print(key, end = \",\" + \" \"*(30 - len(key)) + \"\\t\")\n",
    "                    \n",
    "    def isPure(self):\n",
    "        return type(self.get(\"substance-id-list\")) == int\n",
    "    \n",
    "    def isFirst(self):\n",
    "        return 2 in self.get(\"category-id-list\")\n",
    "        \n",
    "    def readInfo(self):\n",
    "        vallst = re.findall(r\"<(.*)>(.*)</.*>\", self.string)\n",
    "        dct = dict(vallst)\n",
    "        for key in dct.keys():\n",
    "            try:\n",
    "                dct[key] = eval(dct[key])\n",
    "            except Exception as e:\n",
    "                dct[key] = dct[key]\n",
    "        self.info = dct\n",
    "        txt = re.split(r\"<experience-text>|</experience-text>\", self.string)[1]\n",
    "        self.info['text'] = txt\n",
    "        self.text = txt\n",
    "        self.info[\"list-number\"] = self.info[\"list-number\"] - 1\n",
    "        \n",
    "    def makeName(self):\n",
    "        dct = self.info\n",
    "        name = dct[\"substance-string\"].strip() + str(dct[\"list-number\"])\n",
    "        self.name = name.lower().replace(\" \", \"_\").replace(\"&\", \"n\")\n",
    "        \n",
    "    def listInfo(self):\n",
    "        return list(self.info.keys())\n",
    "\n",
    "    def toJSON(self):\n",
    "        return json.dumps(self, default=lambda o: vars(o), \n",
    "            sort_keys=True, indent=4)"
   ]
  },
  {
   "cell_type": "markdown",
   "metadata": {},
   "source": [
    "https://erowid.org/experiences/research/exp_api.php?api_code=berkeley_bcsp_tyrone_2022&substance_id=1&a=experience_data&max=1"
   ]
  }
 ],
 "metadata": {
  "interpreter": {
   "hash": "aee8b7b246df8f9039afb4144a1f6fd8d2ca17a180786b69acc140d282b71a49"
  },
  "kernelspec": {
   "display_name": "Python 3 (ipykernel)",
   "language": "python",
   "name": "python3"
  },
  "language_info": {
   "codemirror_mode": {
    "name": "ipython",
    "version": 3
   },
   "file_extension": ".py",
   "mimetype": "text/x-python",
   "name": "python",
   "nbconvert_exporter": "python",
   "pygments_lexer": "ipython3",
   "version": "3.10.1"
  },
  "widgets": {
   "application/vnd.jupyter.widget-state+json": {
    "state": {
     "1f7cc76eb29b473faa52b83a38019b24": {
      "model_module": "@jupyter-widgets/base",
      "model_module_version": "1.2.0",
      "model_name": "LayoutModel",
      "state": {}
     },
     "21cbfc3a50384a479735220c1d6a1907": {
      "model_module": "@jupyter-widgets/controls",
      "model_module_version": "1.5.0",
      "model_name": "DescriptionStyleModel",
      "state": {
       "description_width": ""
      }
     },
     "2d8afe80563f47849550cfc701bfaaca": {
      "model_module": "@jupyter-widgets/controls",
      "model_module_version": "1.5.0",
      "model_name": "TextareaModel",
      "state": {
       "continuous_update": false,
       "description": "Question:",
       "layout": "IPY_MODEL_5eddf8145114423f8a4b52295db1202a",
       "placeholder": "Ask Gary a question",
       "style": "IPY_MODEL_21cbfc3a50384a479735220c1d6a1907",
       "value": "How tall is Mount Everest?"
      }
     },
     "315f05b686bc42bd83dcda08fbeaadc3": {
      "model_module": "@jupyter-widgets/controls",
      "model_module_version": "1.5.0",
      "model_name": "VBoxModel",
      "state": {
       "_dom_classes": [
        "widget-interact"
       ],
       "children": [
        "IPY_MODEL_2d8afe80563f47849550cfc701bfaaca",
        "IPY_MODEL_bda1e5bfbfed4e73b044187ac4f800a7"
       ],
       "layout": "IPY_MODEL_d59d093d771246738e831e7dca9a0f5e"
      }
     },
     "5eddf8145114423f8a4b52295db1202a": {
      "model_module": "@jupyter-widgets/base",
      "model_module_version": "1.2.0",
      "model_name": "LayoutModel",
      "state": {}
     },
     "bda1e5bfbfed4e73b044187ac4f800a7": {
      "model_module": "@jupyter-widgets/output",
      "model_module_version": "1.0.0",
      "model_name": "OutputModel",
      "state": {
       "layout": "IPY_MODEL_1f7cc76eb29b473faa52b83a38019b24",
       "outputs": [
        {
         "data": {
          "text/markdown": "Mount Everest is 29,029 feet tall.",
          "text/plain": "<IPython.core.display.Markdown object>"
         },
         "metadata": {},
         "output_type": "display_data"
        }
       ]
      }
     },
     "d59d093d771246738e831e7dca9a0f5e": {
      "model_module": "@jupyter-widgets/base",
      "model_module_version": "1.2.0",
      "model_name": "LayoutModel",
      "state": {}
     }
    },
    "version_major": 2,
    "version_minor": 0
   }
  }
 },
 "nbformat": 4,
 "nbformat_minor": 4
}
